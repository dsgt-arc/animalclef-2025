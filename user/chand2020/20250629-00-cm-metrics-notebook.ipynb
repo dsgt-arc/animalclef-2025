{
 "cells": [
  {
   "cell_type": "code",
   "execution_count": 43,
   "metadata": {
    "execution": {
     "iopub.execute_input": "2025-03-02T23:36:02.745856Z",
     "iopub.status.busy": "2025-03-02T23:36:02.745497Z",
     "iopub.status.idle": "2025-03-02T23:36:02.752423Z",
     "shell.execute_reply": "2025-03-02T23:36:02.750884Z",
     "shell.execute_reply.started": "2025-03-02T23:36:02.745822Z"
    },
    "trusted": true
   },
   "outputs": [],
   "source": [
    "import pandas as pd\n",
    "from sklearn.metrics import silhouette_score\n",
    "from sklearn.decomposition import PCA\n",
    "import numpy as np\n",
    "import umap\n",
    "import torch\n",
    "import warnings\n",
    "import os\n",
    "warnings.filterwarnings(\"ignore\", category=FutureWarning, message=\"'force_all_finite' was renamed to 'ensure_all_finite'\")\n",
    "cwd = os.getcwd()"
   ]
  },
  {
   "cell_type": "code",
   "execution_count": 44,
   "metadata": {
    "trusted": true
   },
   "outputs": [
    {
     "name": "stdout",
     "output_type": "stream",
     "text": [
      "Silhouette Score: -0.8455504111187095\n",
      "PCA Silhouette Score: -0.8596465178578592\n",
      "UMAP Silhouette Score: -0.701258\n"
     ]
    }
   ],
   "source": [
    "# Mega Descriptor embeddings\n",
    "df_query_features = pd.read_parquet(f\"{cwd}\\\\data\\\\embeddings\\\\megadescriptor-l-384\\\\query_embeddings_features.parquet\")\n",
    "df_query_metadata = pd.read_parquet(f\"{cwd}\\\\data\\\\embeddings\\\\megadescriptor-l-384\\\\query_embeddings_metadata.parquet\")\n",
    "df_query_features[\"image_id\"] = df_query_metadata[\"image_id\"]\n",
    "df_query_predictions = pd.read_csv(f\"{cwd}\\\\data\\\\predictions\\\\20250425-megadescriptor-l-384.csv\")\n",
    "\n",
    "# Merge features and predictions\n",
    "df_query_features_predictions = df_query_features.merge(df_query_predictions, on=\"image_id\", how='left')\n",
    "features = df_query_features_predictions.drop(columns=['identity'])\n",
    "features.columns = features.columns.astype(str)\n",
    "labels = df_query_features_predictions['identity']\n",
    "\n",
    "# Calculate silhouette score\n",
    "score = silhouette_score(features, labels)\n",
    "print(\"Silhouette Score:\", score)\n",
    "\n",
    "# PCA\n",
    "reduced = PCA(n_components=2).fit_transform(features)\n",
    "score = silhouette_score(reduced, labels)\n",
    "print(\"PCA Silhouette Score:\", score)\n",
    "\n",
    "# UMAP\n",
    "umap_model = umap.UMAP(n_neighbors=5, min_dist=0.3, metric=\"correlation\")\n",
    "reduced = umap_model.fit_transform(features)\n",
    "score = silhouette_score(reduced, labels)\n",
    "print(\"UMAP Silhouette Score:\", score)"
   ]
  }
 ],
 "metadata": {
  "kaggle": {
   "accelerator": "none",
   "dataSources": [
    {
     "databundleVersionId": 11223220,
     "sourceId": 91451,
     "sourceType": "competition"
    }
   ],
   "dockerImageVersionId": 30918,
   "isGpuEnabled": false,
   "isInternetEnabled": true,
   "language": "python",
   "sourceType": "notebook"
  },
  "kernelspec": {
   "display_name": "clef",
   "language": "python",
   "name": "python3"
  },
  "language_info": {
   "codemirror_mode": {
    "name": "ipython",
    "version": 3
   },
   "file_extension": ".py",
   "mimetype": "text/x-python",
   "name": "python",
   "nbconvert_exporter": "python",
   "pygments_lexer": "ipython3",
   "version": "3.13.1"
  }
 },
 "nbformat": 4,
 "nbformat_minor": 4
}
