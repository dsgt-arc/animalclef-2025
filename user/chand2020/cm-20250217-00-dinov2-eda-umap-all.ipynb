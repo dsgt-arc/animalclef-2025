{
 "cells": [
  {
   "cell_type": "markdown",
   "metadata": {},
   "source": [
    "### Import"
   ]
  },
  {
   "cell_type": "code",
   "execution_count": 32,
   "metadata": {},
   "outputs": [
    {
     "name": "stdout",
     "output_type": "stream",
     "text": [
      "The autoreload extension is already loaded. To reload it, use:\n",
      "  %reload_ext autoreload\n"
     ]
    }
   ],
   "source": [
    "%load_ext autoreload\n",
    "%autoreload 2"
   ]
  },
  {
   "cell_type": "code",
   "execution_count": 35,
   "metadata": {},
   "outputs": [],
   "source": [
    "import sys\n",
    "import os\n",
    "\n",
    "module_dir = \"/storage/home/hcoda1/2/cmarutha3/clef/animalclef-2025/\"\n",
    "if module_dir not in sys.path:\n",
    "    sys.path.append(module_dir)"
   ]
  },
  {
   "cell_type": "code",
   "execution_count": 36,
   "metadata": {},
   "outputs": [
    {
     "name": "stdout",
     "output_type": "stream",
     "text": [
      "False\n",
      "2.6.0+cu124\n"
     ]
    }
   ],
   "source": [
    "import torch\n",
    "import torch.nn\n",
    "import pandas as pd\n",
    "import numpy as np\n",
    "from torch.utils.data import Dataset, DataLoader\n",
    "from sklearn.preprocessing import LabelEncoder\n",
    "from transformers import AutoImageProcessor, AutoModel\n",
    "from PIL import Image\n",
    "import matplotlib.pyplot as plt\n",
    "import umap\n",
    "\n",
    "le1 = LabelEncoder()\n",
    "le2 = LabelEncoder()\n",
    "print(torch.cuda.is_available())\n",
    "print(torch.__version__)"
   ]
  },
  {
   "cell_type": "markdown",
   "metadata": {},
   "source": [
    "CPU or CUDA"
   ]
  },
  {
   "cell_type": "code",
   "execution_count": null,
   "metadata": {},
   "outputs": [
    {
     "data": {
      "text/plain": [
       "device(type='cpu')"
      ]
     },
     "execution_count": 37,
     "metadata": {},
     "output_type": "execute_result"
    }
   ],
   "source": [
    "device = torch.device(\"cuda\" if torch.cuda.is_available() else \"cpu\")"
   ]
  },
  {
   "cell_type": "code",
   "execution_count": 38,
   "metadata": {},
   "outputs": [
    {
     "data": {
      "text/plain": [
       "'/storage/scratch1/2/cmarutha3'"
      ]
     },
     "execution_count": 38,
     "metadata": {},
     "output_type": "execute_result"
    }
   ],
   "source": [
    "os.getcwd()"
   ]
  },
  {
   "cell_type": "code",
   "execution_count": 39,
   "metadata": {},
   "outputs": [
    {
     "name": "stdout",
     "output_type": "stream",
     "text": [
      "Current Working Directory: /storage/scratch1/2/cmarutha3\n",
      "Changed Working Directory to: /storage/scratch1/2/cmarutha3\n"
     ]
    }
   ],
   "source": [
    "cwd = os.getcwd()\n",
    "print(\"Current Working Directory:\", cwd)\n",
    "os.chdir(os.path.expanduser(\"~/scratch/\"))\n",
    "print(\"Changed Working Directory to:\", os.getcwd())"
   ]
  },
  {
   "cell_type": "code",
   "execution_count": null,
   "metadata": {},
   "outputs": [
    {
     "data": {
      "text/plain": [
       "51033"
      ]
     },
     "execution_count": 40,
     "metadata": {},
     "output_type": "execute_result"
    }
   ],
   "source": [
    "file_list = []\n",
    "for root, dirs, files in os.walk(\"happy-whale-and-dolphin/train_images/\"):\n",
    "    for file in files:\n",
    "        file_list.append(file)"
   ]
  },
  {
   "cell_type": "markdown",
   "metadata": {},
   "source": [
    "### Extract Data"
   ]
  },
  {
   "cell_type": "code",
   "execution_count": 41,
   "metadata": {},
   "outputs": [],
   "source": [
    "train_df = pd.read_csv(\"happy-whale-and-dolphin/train.csv\")"
   ]
  },
  {
   "cell_type": "code",
   "execution_count": 42,
   "metadata": {},
   "outputs": [
    {
     "data": {
      "text/html": [
       "<div>\n",
       "<style scoped>\n",
       "    .dataframe tbody tr th:only-of-type {\n",
       "        vertical-align: middle;\n",
       "    }\n",
       "\n",
       "    .dataframe tbody tr th {\n",
       "        vertical-align: top;\n",
       "    }\n",
       "\n",
       "    .dataframe thead th {\n",
       "        text-align: right;\n",
       "    }\n",
       "</style>\n",
       "<table border=\"1\" class=\"dataframe\">\n",
       "  <thead>\n",
       "    <tr style=\"text-align: right;\">\n",
       "      <th></th>\n",
       "      <th>image</th>\n",
       "      <th>species</th>\n",
       "      <th>individual_id</th>\n",
       "    </tr>\n",
       "  </thead>\n",
       "  <tbody>\n",
       "    <tr>\n",
       "      <th>0</th>\n",
       "      <td>00021adfb725ed.jpg</td>\n",
       "      <td>melon_headed_whale</td>\n",
       "      <td>cadddb1636b9</td>\n",
       "    </tr>\n",
       "    <tr>\n",
       "      <th>1</th>\n",
       "      <td>000562241d384d.jpg</td>\n",
       "      <td>humpback_whale</td>\n",
       "      <td>1a71fbb72250</td>\n",
       "    </tr>\n",
       "    <tr>\n",
       "      <th>2</th>\n",
       "      <td>0007c33415ce37.jpg</td>\n",
       "      <td>false_killer_whale</td>\n",
       "      <td>60008f293a2b</td>\n",
       "    </tr>\n",
       "    <tr>\n",
       "      <th>3</th>\n",
       "      <td>0007d9bca26a99.jpg</td>\n",
       "      <td>bottlenose_dolphin</td>\n",
       "      <td>4b00fe572063</td>\n",
       "    </tr>\n",
       "    <tr>\n",
       "      <th>4</th>\n",
       "      <td>00087baf5cef7a.jpg</td>\n",
       "      <td>humpback_whale</td>\n",
       "      <td>8e5253662392</td>\n",
       "    </tr>\n",
       "  </tbody>\n",
       "</table>\n",
       "</div>"
      ],
      "text/plain": [
       "                image             species individual_id\n",
       "0  00021adfb725ed.jpg  melon_headed_whale  cadddb1636b9\n",
       "1  000562241d384d.jpg      humpback_whale  1a71fbb72250\n",
       "2  0007c33415ce37.jpg  false_killer_whale  60008f293a2b\n",
       "3  0007d9bca26a99.jpg  bottlenose_dolphin  4b00fe572063\n",
       "4  00087baf5cef7a.jpg      humpback_whale  8e5253662392"
      ]
     },
     "execution_count": 42,
     "metadata": {},
     "output_type": "execute_result"
    }
   ],
   "source": [
    "train_df.head()"
   ]
  },
  {
   "cell_type": "code",
   "execution_count": 43,
   "metadata": {},
   "outputs": [
    {
     "name": "stdout",
     "output_type": "stream",
     "text": [
      "Unique IDs: ['cadddb1636b9' '1a71fbb72250' '60008f293a2b' ... '3509cb6a8504'\n",
      " 'e880e47c06a4' 'bc6fcab946c4']\n",
      "Count of Unique IDs:\n",
      " individual_id\n",
      "37c7aba965a5    400\n",
      "114207cab555    168\n",
      "a6e325d8e924    155\n",
      "19fbb960f07d    154\n",
      "c995c043c353    153\n",
      "               ... \n",
      "df7668d8f754      1\n",
      "03be3cdbff9c      1\n",
      "8235d066b9fe      1\n",
      "d1b416bae01d      1\n",
      "f727bd52d5dc      1\n",
      "Name: count, Length: 15587, dtype: int64\n"
     ]
    }
   ],
   "source": [
    "# Find unique values in the 'id' column\n",
    "unique_ids = train_df[\"individual_id\"].unique()\n",
    "print(\"Unique IDs:\", unique_ids)\n",
    "\n",
    "# Count unique values in the 'id' column\n",
    "count_unique_ids = train_df[\"individual_id\"].value_counts()\n",
    "print(\"Count of Unique IDs:\\n\", count_unique_ids)"
   ]
  },
  {
   "cell_type": "code",
   "execution_count": 44,
   "metadata": {},
   "outputs": [
    {
     "name": "stdout",
     "output_type": "stream",
     "text": [
      "Unique IDs: ['melon_headed_whale' 'humpback_whale' 'false_killer_whale'\n",
      " 'bottlenose_dolphin' 'beluga' 'minke_whale' 'fin_whale' 'blue_whale'\n",
      " 'gray_whale' 'southern_right_whale' 'common_dolphin' 'kiler_whale'\n",
      " 'pilot_whale' 'dusky_dolphin' 'killer_whale' 'long_finned_pilot_whale'\n",
      " 'sei_whale' 'spinner_dolphin' 'bottlenose_dolpin' 'cuviers_beaked_whale'\n",
      " 'spotted_dolphin' 'globis' 'brydes_whale' 'commersons_dolphin'\n",
      " 'white_sided_dolphin' 'short_finned_pilot_whale' 'rough_toothed_dolphin'\n",
      " 'pantropic_spotted_dolphin' 'pygmy_killer_whale' 'frasiers_dolphin']\n",
      "Count of Unique IDs:\n",
      " species\n",
      "bottlenose_dolphin           9664\n",
      "beluga                       7443\n",
      "humpback_whale               7392\n",
      "blue_whale                   4830\n",
      "false_killer_whale           3326\n",
      "dusky_dolphin                3139\n",
      "spinner_dolphin              1700\n",
      "melon_headed_whale           1689\n",
      "minke_whale                  1608\n",
      "killer_whale                 1493\n",
      "fin_whale                    1324\n",
      "gray_whale                   1123\n",
      "bottlenose_dolpin            1117\n",
      "kiler_whale                   962\n",
      "southern_right_whale          866\n",
      "spotted_dolphin               490\n",
      "sei_whale                     428\n",
      "short_finned_pilot_whale      367\n",
      "common_dolphin                347\n",
      "cuviers_beaked_whale          341\n",
      "pilot_whale                   262\n",
      "long_finned_pilot_whale       238\n",
      "white_sided_dolphin           229\n",
      "brydes_whale                  154\n",
      "pantropic_spotted_dolphin     145\n",
      "globis                        116\n",
      "commersons_dolphin             90\n",
      "pygmy_killer_whale             76\n",
      "rough_toothed_dolphin          60\n",
      "frasiers_dolphin               14\n",
      "Name: count, dtype: int64\n"
     ]
    }
   ],
   "source": [
    "# Find unique values in the 'id' column\n",
    "unique_ids = train_df[\"species\"].unique()\n",
    "print(\"Unique IDs:\", unique_ids)\n",
    "\n",
    "# Count unique values in the 'id' column\n",
    "count_unique_ids = train_df[\"species\"].value_counts()\n",
    "print(\"Count of Unique IDs:\\n\", count_unique_ids)"
   ]
  },
  {
   "cell_type": "code",
   "execution_count": 45,
   "metadata": {},
   "outputs": [],
   "source": [
    "ids = [\"a6e325d8e924\", \"19fbb960f07d\", \"37c7aba965a5\", \"114207cab555\"]\n",
    "species = [\"bottlenose_dolphin\", \"blue_whale\", \"killer_whale\", \"beluga\"]\n",
    "# Train Data 1\n",
    "train_df1 = train_df.reset_index(drop=True)\n",
    "train_df1[\"individual_id\"] = le1.fit_transform(train_df1[\"individual_id\"])\n",
    "n_labels1 = train_df1[\"individual_id\"].nunique()\n",
    "# Train Data 2\n",
    "train_df2 = train_df.reset_index(drop=True)\n",
    "train_df2[\"species\"] = le2.fit_transform(train_df2[\"species\"])\n",
    "n_labels2 = train_df2[\"species\"].nunique()"
   ]
  },
  {
   "cell_type": "code",
   "execution_count": 46,
   "metadata": {},
   "outputs": [
    {
     "data": {
      "text/html": [
       "<div>\n",
       "<style scoped>\n",
       "    .dataframe tbody tr th:only-of-type {\n",
       "        vertical-align: middle;\n",
       "    }\n",
       "\n",
       "    .dataframe tbody tr th {\n",
       "        vertical-align: top;\n",
       "    }\n",
       "\n",
       "    .dataframe thead th {\n",
       "        text-align: right;\n",
       "    }\n",
       "</style>\n",
       "<table border=\"1\" class=\"dataframe\">\n",
       "  <thead>\n",
       "    <tr style=\"text-align: right;\">\n",
       "      <th></th>\n",
       "      <th>image</th>\n",
       "      <th>species</th>\n",
       "      <th>individual_id</th>\n",
       "    </tr>\n",
       "  </thead>\n",
       "  <tbody>\n",
       "    <tr>\n",
       "      <th>0</th>\n",
       "      <td>00021adfb725ed.jpg</td>\n",
       "      <td>melon_headed_whale</td>\n",
       "      <td>12348</td>\n",
       "    </tr>\n",
       "    <tr>\n",
       "      <th>1</th>\n",
       "      <td>000562241d384d.jpg</td>\n",
       "      <td>humpback_whale</td>\n",
       "      <td>1636</td>\n",
       "    </tr>\n",
       "    <tr>\n",
       "      <th>2</th>\n",
       "      <td>0007c33415ce37.jpg</td>\n",
       "      <td>false_killer_whale</td>\n",
       "      <td>5842</td>\n",
       "    </tr>\n",
       "    <tr>\n",
       "      <th>3</th>\n",
       "      <td>0007d9bca26a99.jpg</td>\n",
       "      <td>bottlenose_dolphin</td>\n",
       "      <td>4551</td>\n",
       "    </tr>\n",
       "    <tr>\n",
       "      <th>4</th>\n",
       "      <td>00087baf5cef7a.jpg</td>\n",
       "      <td>humpback_whale</td>\n",
       "      <td>8721</td>\n",
       "    </tr>\n",
       "  </tbody>\n",
       "</table>\n",
       "</div>"
      ],
      "text/plain": [
       "                image             species  individual_id\n",
       "0  00021adfb725ed.jpg  melon_headed_whale          12348\n",
       "1  000562241d384d.jpg      humpback_whale           1636\n",
       "2  0007c33415ce37.jpg  false_killer_whale           5842\n",
       "3  0007d9bca26a99.jpg  bottlenose_dolphin           4551\n",
       "4  00087baf5cef7a.jpg      humpback_whale           8721"
      ]
     },
     "execution_count": 46,
     "metadata": {},
     "output_type": "execute_result"
    }
   ],
   "source": [
    "train_df1.head()"
   ]
  },
  {
   "cell_type": "code",
   "execution_count": 47,
   "metadata": {},
   "outputs": [
    {
     "data": {
      "text/html": [
       "<div>\n",
       "<style scoped>\n",
       "    .dataframe tbody tr th:only-of-type {\n",
       "        vertical-align: middle;\n",
       "    }\n",
       "\n",
       "    .dataframe tbody tr th {\n",
       "        vertical-align: top;\n",
       "    }\n",
       "\n",
       "    .dataframe thead th {\n",
       "        text-align: right;\n",
       "    }\n",
       "</style>\n",
       "<table border=\"1\" class=\"dataframe\">\n",
       "  <thead>\n",
       "    <tr style=\"text-align: right;\">\n",
       "      <th></th>\n",
       "      <th>image</th>\n",
       "      <th>species</th>\n",
       "      <th>individual_id</th>\n",
       "    </tr>\n",
       "  </thead>\n",
       "  <tbody>\n",
       "    <tr>\n",
       "      <th>0</th>\n",
       "      <td>00021adfb725ed.jpg</td>\n",
       "      <td>18</td>\n",
       "      <td>cadddb1636b9</td>\n",
       "    </tr>\n",
       "    <tr>\n",
       "      <th>1</th>\n",
       "      <td>000562241d384d.jpg</td>\n",
       "      <td>14</td>\n",
       "      <td>1a71fbb72250</td>\n",
       "    </tr>\n",
       "    <tr>\n",
       "      <th>2</th>\n",
       "      <td>0007c33415ce37.jpg</td>\n",
       "      <td>9</td>\n",
       "      <td>60008f293a2b</td>\n",
       "    </tr>\n",
       "    <tr>\n",
       "      <th>3</th>\n",
       "      <td>0007d9bca26a99.jpg</td>\n",
       "      <td>2</td>\n",
       "      <td>4b00fe572063</td>\n",
       "    </tr>\n",
       "    <tr>\n",
       "      <th>4</th>\n",
       "      <td>00087baf5cef7a.jpg</td>\n",
       "      <td>14</td>\n",
       "      <td>8e5253662392</td>\n",
       "    </tr>\n",
       "  </tbody>\n",
       "</table>\n",
       "</div>"
      ],
      "text/plain": [
       "                image  species individual_id\n",
       "0  00021adfb725ed.jpg       18  cadddb1636b9\n",
       "1  000562241d384d.jpg       14  1a71fbb72250\n",
       "2  0007c33415ce37.jpg        9  60008f293a2b\n",
       "3  0007d9bca26a99.jpg        2  4b00fe572063\n",
       "4  00087baf5cef7a.jpg       14  8e5253662392"
      ]
     },
     "execution_count": 47,
     "metadata": {},
     "output_type": "execute_result"
    }
   ],
   "source": [
    "train_df2.head()"
   ]
  },
  {
   "cell_type": "code",
   "execution_count": 48,
   "metadata": {},
   "outputs": [
    {
     "name": "stdout",
     "output_type": "stream",
     "text": [
      "Unique IDs: [12348  1636  5842 ...  3211 14182 11508]\n",
      "Count of Unique IDs:\n",
      " individual_id\n",
      "3398     400\n",
      "1082     168\n",
      "10192    155\n",
      "1613     154\n",
      "12267    153\n",
      "        ... \n",
      "13612      1\n",
      "245        1\n",
      "7982       1\n",
      "12783      1\n",
      "15053      1\n",
      "Name: count, Length: 15587, dtype: int64\n"
     ]
    }
   ],
   "source": [
    "# Find unique values in the 'id' column\n",
    "unique_ids = train_df1[\"individual_id\"].unique()\n",
    "print(\"Unique IDs:\", unique_ids)\n",
    "\n",
    "# Count unique values in the 'id' column\n",
    "count_unique_ids = train_df1[\"individual_id\"].value_counts()\n",
    "print(\"Count of Unique IDs:\\n\", count_unique_ids)"
   ]
  },
  {
   "cell_type": "code",
   "execution_count": 49,
   "metadata": {},
   "outputs": [
    {
     "name": "stdout",
     "output_type": "stream",
     "text": [
      "Unique Species: [18 14  9  2  0 19 10  1 13 26  6 15 21  8 16 17 24 27  3  7 28 12  4  5\n",
      " 29 25 23 20 22 11]\n",
      "Count of Unique Species:\n",
      " species\n",
      "2     9664\n",
      "0     7443\n",
      "14    7392\n",
      "1     4830\n",
      "9     3326\n",
      "8     3139\n",
      "27    1700\n",
      "18    1689\n",
      "19    1608\n",
      "16    1493\n",
      "10    1324\n",
      "13    1123\n",
      "3     1117\n",
      "15     962\n",
      "26     866\n",
      "28     490\n",
      "24     428\n",
      "25     367\n",
      "6      347\n",
      "7      341\n",
      "21     262\n",
      "17     238\n",
      "29     229\n",
      "4      154\n",
      "20     145\n",
      "12     116\n",
      "5       90\n",
      "22      76\n",
      "23      60\n",
      "11      14\n",
      "Name: count, dtype: int64\n"
     ]
    }
   ],
   "source": [
    "# Find unique values in the 'id' column\n",
    "unique_ids = train_df2[\"species\"].unique()\n",
    "print(\"Unique Species:\", unique_ids)\n",
    "\n",
    "# Count unique values in the 'id' column\n",
    "count_unique_ids = train_df2[\"species\"].value_counts()\n",
    "print(\"Count of Unique Species:\\n\", count_unique_ids)"
   ]
  },
  {
   "cell_type": "markdown",
   "metadata": {},
   "source": [
    "### Preprocessing and Model"
   ]
  },
  {
   "cell_type": "code",
   "execution_count": 50,
   "metadata": {},
   "outputs": [
    {
     "data": {
      "text/plain": [
       "Dinov2Model(\n",
       "  (embeddings): Dinov2Embeddings(\n",
       "    (patch_embeddings): Dinov2PatchEmbeddings(\n",
       "      (projection): Conv2d(3, 768, kernel_size=(14, 14), stride=(14, 14))\n",
       "    )\n",
       "    (dropout): Dropout(p=0.0, inplace=False)\n",
       "  )\n",
       "  (encoder): Dinov2Encoder(\n",
       "    (layer): ModuleList(\n",
       "      (0-11): 12 x Dinov2Layer(\n",
       "        (norm1): LayerNorm((768,), eps=1e-06, elementwise_affine=True)\n",
       "        (attention): Dinov2SdpaAttention(\n",
       "          (attention): Dinov2SdpaSelfAttention(\n",
       "            (query): Linear(in_features=768, out_features=768, bias=True)\n",
       "            (key): Linear(in_features=768, out_features=768, bias=True)\n",
       "            (value): Linear(in_features=768, out_features=768, bias=True)\n",
       "            (dropout): Dropout(p=0.0, inplace=False)\n",
       "          )\n",
       "          (output): Dinov2SelfOutput(\n",
       "            (dense): Linear(in_features=768, out_features=768, bias=True)\n",
       "            (dropout): Dropout(p=0.0, inplace=False)\n",
       "          )\n",
       "        )\n",
       "        (layer_scale1): Dinov2LayerScale()\n",
       "        (drop_path): Identity()\n",
       "        (norm2): LayerNorm((768,), eps=1e-06, elementwise_affine=True)\n",
       "        (mlp): Dinov2MLP(\n",
       "          (fc1): Linear(in_features=768, out_features=3072, bias=True)\n",
       "          (activation): GELUActivation()\n",
       "          (fc2): Linear(in_features=3072, out_features=768, bias=True)\n",
       "        )\n",
       "        (layer_scale2): Dinov2LayerScale()\n",
       "      )\n",
       "    )\n",
       "  )\n",
       "  (layernorm): LayerNorm((768,), eps=1e-06, elementwise_affine=True)\n",
       ")"
      ]
     },
     "execution_count": 50,
     "metadata": {},
     "output_type": "execute_result"
    }
   ],
   "source": [
    "model_name = \"facebook/dinov2-base\"\n",
    "processor = AutoImageProcessor.from_pretrained(model_name)\n",
    "model = AutoModel.from_pretrained(model_name)\n",
    "model.to(device)"
   ]
  },
  {
   "cell_type": "markdown",
   "metadata": {},
   "source": [
    "### Dataset"
   ]
  },
  {
   "cell_type": "code",
   "execution_count": 51,
   "metadata": {},
   "outputs": [],
   "source": [
    "class ExtractDataset1(Dataset):\n",
    "    def __init__(self, X, y, preprocessor, model, transform=None):\n",
    "        self.X = X\n",
    "        self.y = y\n",
    "        self.preprocessor = preprocessor\n",
    "        self.transform = transform\n",
    "        self.model = model\n",
    "\n",
    "    def __len__(self):\n",
    "        return len(self.X)\n",
    "\n",
    "    def __getitem__(self, idx):\n",
    "        item_image = self.X.loc[idx, \"image\"]\n",
    "        item_label = self.y.loc[idx, \"individual_id\"]\n",
    "        item_image_path = os.path.join(\n",
    "            \"happy-whale-and-dolphin/train_images\", item_image\n",
    "        )\n",
    "        item_image = Image.open(item_image_path).convert(\"RGB\")\n",
    "        #         print(item_image.size)\n",
    "\n",
    "        inputs = self.preprocessor(images=item_image, return_tensors=\"pt\")\n",
    "        #         print(inputs['pixel_values'].shape)\n",
    "\n",
    "        with torch.no_grad():\n",
    "            outputs = self.model(**inputs)\n",
    "        #             print(outputs.last_hidden_state.shape)\n",
    "        cls_token = outputs.last_hidden_state[:, 0, :].squeeze(0).numpy()\n",
    "        return cls_token, item_label\n",
    "\n",
    "\n",
    "class ExtractDataset2(Dataset):\n",
    "    def __init__(self, X, y, preprocessor, model, transform=None):\n",
    "        self.X = X\n",
    "        self.y = y\n",
    "        self.preprocessor = preprocessor\n",
    "        self.transform = transform\n",
    "        self.model = model\n",
    "\n",
    "    def __len__(self):\n",
    "        return len(self.X)\n",
    "\n",
    "    def __getitem__(self, idx):\n",
    "        item_image = self.X.loc[idx, \"image\"]\n",
    "        item_label = self.y.loc[idx, \"species\"]\n",
    "        item_image_path = os.path.join(\n",
    "            \"happy-whale-and-dolphin/train_images\", item_image\n",
    "        )\n",
    "        item_image = Image.open(item_image_path).convert(\"RGB\")\n",
    "        #         print(item_image.size)\n",
    "\n",
    "        inputs = self.preprocessor(images=item_image, return_tensors=\"pt\")\n",
    "        #         print(inputs['pixel_values'].shape)\n",
    "\n",
    "        with torch.no_grad():\n",
    "            outputs = self.model(**inputs)\n",
    "        #             print(outputs.last_hidden_state.shape)\n",
    "        cls_token = outputs.last_hidden_state[:, 0, :].squeeze(0).numpy()\n",
    "        return cls_token, item_label\n",
    "\n",
    "\n",
    "# def extract_cls_embeddings(data_loader):\n",
    "#     cls_embeddings_list = []\n",
    "\n",
    "#     for batch in data_loader:\n",
    "#         print(f\"Batch: {batch}\")\n",
    "#         inputs = processor(batch['pixel_values'], return_tensors='pt')\n",
    "\n",
    "#         with torch.no_grad():\n",
    "#             outputs = model(**inputs)\n",
    "\n",
    "#         cls_embeddings = outputs.last_hidden_state[:, 0, :]\n",
    "#         cls_embeddings_list.append(cls_embeddings)\n",
    "#         break\n",
    "\n",
    "#     return torch.cat(cls_embeddings_list, dim=0)"
   ]
  },
  {
   "cell_type": "code",
   "execution_count": 52,
   "metadata": {},
   "outputs": [],
   "source": [
    "X1 = train_df1[[\"image\", \"species\"]]\n",
    "y1 = train_df1[\"individual_id\"]\n",
    "X2 = train_df2[[\"image\", \"individual_id\"]]\n",
    "y2 = train_df2[\"species\"]\n",
    "\n",
    "# X_train1, X_test1, y_train1, y_test1 = train_test_split(X1, y1, test_size=0.2, stratify=y1, random_state=42)\n",
    "# X_train2, X_test2, y_train2, y_test2 = train_test_split(X2, y2, test_size=0.2, stratify=y2, random_state=42)\n",
    "X_train1 = X1\n",
    "y_train1 = y1\n",
    "X_train2 = X2\n",
    "y_train2 = y2"
   ]
  },
  {
   "cell_type": "code",
   "execution_count": 53,
   "metadata": {},
   "outputs": [],
   "source": [
    "train_dataset1 = ExtractDataset1(\n",
    "    X_train1.reset_index(), y_train1.reset_index(), processor, model\n",
    ")\n",
    "# valid_dataset1 = ExtractDataset1(X_test1.reset_index(), y_test1.reset_index(), processor, model)\n",
    "train_loader1 = DataLoader(train_dataset1, batch_size=10, shuffle=True)\n",
    "# validation_loader1 = DataLoader(valid_dataset1, batch_size=1, shuffle=True)"
   ]
  },
  {
   "cell_type": "code",
   "execution_count": 54,
   "metadata": {},
   "outputs": [],
   "source": [
    "train_dataset2 = ExtractDataset2(\n",
    "    X_train2.reset_index(), y_train2.reset_index(), processor, model\n",
    ")\n",
    "# valid_dataset2= ExtractDataset2(X_test2.reset_index(), y_test2.reset_index(), processor, model)\n",
    "train_loader2 = DataLoader(train_dataset2, batch_size=10, shuffle=True)\n",
    "# validation_loader2 = DataLoader(valid_dataset2, batch_size=1, shuffle=True)"
   ]
  },
  {
   "cell_type": "markdown",
   "metadata": {},
   "source": [
    "### Extract CLS Embeddings"
   ]
  },
  {
   "cell_type": "code",
   "execution_count": 55,
   "metadata": {},
   "outputs": [],
   "source": [
    "cls_tokens = []\n",
    "labels = []\n",
    "i = 0\n",
    "for batch in train_loader1:\n",
    "    cls_token, label = batch\n",
    "    cls_token = cls_token.view(cls_token.size(0), -1)\n",
    "    cls_tokens.append(cls_token)\n",
    "    labels.append(label)\n",
    "cls_tokens = torch.cat(cls_tokens, dim=0)\n",
    "train_cls_embeddings1 = pd.DataFrame(cls_tokens.numpy())\n",
    "train_cls_embeddings1[\"label\"] = torch.cat(labels, dim=0).numpy()"
   ]
  },
  {
   "cell_type": "code",
   "execution_count": 56,
   "metadata": {},
   "outputs": [],
   "source": [
    "cls_tokens = []\n",
    "labels = []\n",
    "for batch in train_loader2:\n",
    "    cls_token, label = batch\n",
    "    cls_token = cls_token.view(cls_token.size(0), -1)\n",
    "    cls_tokens.append(cls_token)\n",
    "    labels.append(label)\n",
    "cls_tokens = torch.cat(cls_tokens, dim=0)\n",
    "train_cls_embeddings2 = pd.DataFrame(cls_tokens.numpy())\n",
    "train_cls_embeddings2[\"label\"] = torch.cat(labels, dim=0).numpy()"
   ]
  },
  {
   "cell_type": "code",
   "execution_count": 57,
   "metadata": {},
   "outputs": [
    {
     "name": "stderr",
     "output_type": "stream",
     "text": [
      "/storage/scratch1/2/cmarutha3/.venv/lib64/python3.9/site-packages/pandas/io/parquet.py:190: UserWarning: The DataFrame has column names of mixed type. They will be converted to strings and not roundtrip correctly.\n",
      "  table = self.api.Table.from_pandas(df, **from_pandas_kwargs)\n"
     ]
    }
   ],
   "source": [
    "train_cls_embeddings1.to_parquet(\"all_train_cls_embeddings1.parquet\", engine=\"pyarrow\")\n",
    "train_cls_embeddings2.to_parquet(\"all_train_cls_embeddings2.parquet\", engine=\"pyarrow\")"
   ]
  },
  {
   "cell_type": "code",
   "execution_count": 58,
   "metadata": {},
   "outputs": [],
   "source": [
    "train_cls_embeddings1 = pd.read_parquet(\n",
    "    \"all_train_cls_embeddings1.parquet\", engine=\"pyarrow\"\n",
    ")\n",
    "train_cls_embeddings2 = pd.read_parquet(\n",
    "    \"all_train_cls_embeddings2.parquet\", engine=\"pyarrow\"\n",
    ")"
   ]
  },
  {
   "cell_type": "code",
   "execution_count": 59,
   "metadata": {},
   "outputs": [
    {
     "name": "stderr",
     "output_type": "stream",
     "text": [
      "/storage/scratch1/2/cmarutha3/.venv/lib64/python3.9/site-packages/sklearn/utils/deprecation.py:151: FutureWarning: 'force_all_finite' was renamed to 'ensure_all_finite' in 1.6 and will be removed in 1.8.\n",
      "  warnings.warn(\n",
      "/tmp/ipykernel_3160735/2594750296.py:11: UserWarning: No data for colormapping provided via 'c'. Parameters 'cmap' will be ignored\n",
      "  plt.scatter(umap_embedding[indices, 0], umap_embedding[indices, 1], color=color_map[label], label=le1.inverse_transform([label])[0], cmap='Spectral', s=5, alpha=0.6)\n",
      "/tmp/ipykernel_3160735/2594750296.py:11: UserWarning: No data for colormapping provided via 'c'. Parameters 'cmap' will be ignored\n",
      "  plt.scatter(umap_embedding[indices, 0], umap_embedding[indices, 1], color=color_map[label], label=le1.inverse_transform([label])[0], cmap='Spectral', s=5, alpha=0.6)\n",
      "/tmp/ipykernel_3160735/2594750296.py:11: UserWarning: No data for colormapping provided via 'c'. Parameters 'cmap' will be ignored\n",
      "  plt.scatter(umap_embedding[indices, 0], umap_embedding[indices, 1], color=color_map[label], label=le1.inverse_transform([label])[0], cmap='Spectral', s=5, alpha=0.6)\n",
      "/tmp/ipykernel_3160735/2594750296.py:11: UserWarning: No data for colormapping provided via 'c'. Parameters 'cmap' will be ignored\n",
      "  plt.scatter(umap_embedding[indices, 0], umap_embedding[indices, 1], color=color_map[label], label=le1.inverse_transform([label])[0], cmap='Spectral', s=5, alpha=0.6)\n",
      "/tmp/ipykernel_3160735/2594750296.py:11: UserWarning: No data for colormapping provided via 'c'. Parameters 'cmap' will be ignored\n",
      "  plt.scatter(umap_embedding[indices, 0], umap_embedding[indices, 1], color=color_map[label], label=le1.inverse_transform([label])[0], cmap='Spectral', s=5, alpha=0.6)\n",
      "/tmp/ipykernel_3160735/2594750296.py:11: UserWarning: No data for colormapping provided via 'c'. Parameters 'cmap' will be ignored\n",
      "  plt.scatter(umap_embedding[indices, 0], umap_embedding[indices, 1], color=color_map[label], label=le1.inverse_transform([label])[0], cmap='Spectral', s=5, alpha=0.6)\n",
      "/tmp/ipykernel_3160735/2594750296.py:11: UserWarning: No data for colormapping provided via 'c'. Parameters 'cmap' will be ignored\n",
      "  plt.scatter(umap_embedding[indices, 0], umap_embedding[indices, 1], color=color_map[label], label=le1.inverse_transform([label])[0], cmap='Spectral', s=5, alpha=0.6)\n",
      "/tmp/ipykernel_3160735/2594750296.py:11: UserWarning: No data for colormapping provided via 'c'. Parameters 'cmap' will be ignored\n",
      "  plt.scatter(umap_embedding[indices, 0], umap_embedding[indices, 1], color=color_map[label], label=le1.inverse_transform([label])[0], cmap='Spectral', s=5, alpha=0.6)\n",
      "/tmp/ipykernel_3160735/2594750296.py:11: UserWarning: No data for colormapping provided via 'c'. Parameters 'cmap' will be ignored\n",
      "  plt.scatter(umap_embedding[indices, 0], umap_embedding[indices, 1], color=color_map[label], label=le1.inverse_transform([label])[0], cmap='Spectral', s=5, alpha=0.6)\n",
      "/tmp/ipykernel_3160735/2594750296.py:11: UserWarning: No data for colormapping provided via 'c'. Parameters 'cmap' will be ignored\n",
      "  plt.scatter(umap_embedding[indices, 0], umap_embedding[indices, 1], color=color_map[label], label=le1.inverse_transform([label])[0], cmap='Spectral', s=5, alpha=0.6)\n",
      "/tmp/ipykernel_3160735/2594750296.py:11: UserWarning: No data for colormapping provided via 'c'. Parameters 'cmap' will be ignored\n",
      "  plt.scatter(umap_embedding[indices, 0], umap_embedding[indices, 1], color=color_map[label], label=le1.inverse_transform([label])[0], cmap='Spectral', s=5, alpha=0.6)\n",
      "/tmp/ipykernel_3160735/2594750296.py:11: UserWarning: No data for colormapping provided via 'c'. Parameters 'cmap' will be ignored\n",
      "  plt.scatter(umap_embedding[indices, 0], umap_embedding[indices, 1], color=color_map[label], label=le1.inverse_transform([label])[0], cmap='Spectral', s=5, alpha=0.6)\n",
      "/tmp/ipykernel_3160735/2594750296.py:11: UserWarning: No data for colormapping provided via 'c'. Parameters 'cmap' will be ignored\n",
      "  plt.scatter(umap_embedding[indices, 0], umap_embedding[indices, 1], color=color_map[label], label=le1.inverse_transform([label])[0], cmap='Spectral', s=5, alpha=0.6)\n",
      "/tmp/ipykernel_3160735/2594750296.py:11: UserWarning: No data for colormapping provided via 'c'. Parameters 'cmap' will be ignored\n",
      "  plt.scatter(umap_embedding[indices, 0], umap_embedding[indices, 1], color=color_map[label], label=le1.inverse_transform([label])[0], cmap='Spectral', s=5, alpha=0.6)\n",
      "/tmp/ipykernel_3160735/2594750296.py:11: UserWarning: No data for colormapping provided via 'c'. Parameters 'cmap' will be ignored\n",
      "  plt.scatter(umap_embedding[indices, 0], umap_embedding[indices, 1], color=color_map[label], label=le1.inverse_transform([label])[0], cmap='Spectral', s=5, alpha=0.6)\n",
      "/tmp/ipykernel_3160735/2594750296.py:11: UserWarning: No data for colormapping provided via 'c'. Parameters 'cmap' will be ignored\n",
      "  plt.scatter(umap_embedding[indices, 0], umap_embedding[indices, 1], color=color_map[label], label=le1.inverse_transform([label])[0], cmap='Spectral', s=5, alpha=0.6)\n",
      "/tmp/ipykernel_3160735/2594750296.py:11: UserWarning: No data for colormapping provided via 'c'. Parameters 'cmap' will be ignored\n",
      "  plt.scatter(umap_embedding[indices, 0], umap_embedding[indices, 1], color=color_map[label], label=le1.inverse_transform([label])[0], cmap='Spectral', s=5, alpha=0.6)\n",
      "/tmp/ipykernel_3160735/2594750296.py:11: UserWarning: No data for colormapping provided via 'c'. Parameters 'cmap' will be ignored\n",
      "  plt.scatter(umap_embedding[indices, 0], umap_embedding[indices, 1], color=color_map[label], label=le1.inverse_transform([label])[0], cmap='Spectral', s=5, alpha=0.6)\n",
      "/tmp/ipykernel_3160735/2594750296.py:11: UserWarning: No data for colormapping provided via 'c'. Parameters 'cmap' will be ignored\n",
      "  plt.scatter(umap_embedding[indices, 0], umap_embedding[indices, 1], color=color_map[label], label=le1.inverse_transform([label])[0], cmap='Spectral', s=5, alpha=0.6)\n",
      "/tmp/ipykernel_3160735/2594750296.py:11: UserWarning: No data for colormapping provided via 'c'. Parameters 'cmap' will be ignored\n",
      "  plt.scatter(umap_embedding[indices, 0], umap_embedding[indices, 1], color=color_map[label], label=le1.inverse_transform([label])[0], cmap='Spectral', s=5, alpha=0.6)\n"
     ]
    },
    {
     "data": {
      "image/png": "[encoded data removed]",
      "text/plain": [
       "<Figure size 1000x700 with 1 Axes>"
      ]
     },
     "metadata": {},
     "output_type": "display_data"
    }
   ],
   "source": [
    "features = train_cls_embeddings1.drop(\"label\", axis=1).values\n",
    "labels = train_cls_embeddings1[\"label\"].values\n",
    "umap_model = umap.UMAP(n_neighbors=5, min_dist=0.3, metric=\"correlation\")\n",
    "umap_embedding = umap_model.fit_transform(features)\n",
    "unique_labels = np.unique(labels)\n",
    "colors = plt.cm.jet(np.linspace(0, 1, len(unique_labels)))\n",
    "color_map = dict(zip(unique_labels, colors))\n",
    "plt.figure(figsize=(10, 7))\n",
    "for label in unique_labels:\n",
    "    indices = labels == label\n",
    "    plt.scatter(\n",
    "        umap_embedding[indices, 0],\n",
    "        umap_embedding[indices, 1],\n",
    "        color=color_map[label],\n",
    "        label=le1.inverse_transform([label])[0],\n",
    "        cmap=\"Spectral\",\n",
    "        s=5,\n",
    "        alpha=0.6,\n",
    "    )\n",
    "plt.legend()\n",
    "plt.title(\"Happy Whale and Dolphin - Individual ID\")\n",
    "plt.xlabel(\"UMAP Feature 1\")\n",
    "plt.ylabel(\"UMAP Feature 2\")\n",
    "plt.show()"
   ]
  },
  {
   "cell_type": "code",
   "execution_count": 60,
   "metadata": {},
   "outputs": [
    {
     "name": "stderr",
     "output_type": "stream",
     "text": [
      "/storage/scratch1/2/cmarutha3/.venv/lib64/python3.9/site-packages/sklearn/utils/deprecation.py:151: FutureWarning: 'force_all_finite' was renamed to 'ensure_all_finite' in 1.6 and will be removed in 1.8.\n",
      "  warnings.warn(\n",
      "/tmp/ipykernel_3160735/3545917089.py:11: UserWarning: No data for colormapping provided via 'c'. Parameters 'cmap' will be ignored\n",
      "  plt.scatter(umap_embedding[indices, 0], umap_embedding[indices, 1], color=color_map[label], label=le2.inverse_transform([label])[0], cmap='Spectral', s=5, alpha=0.6)\n",
      "/tmp/ipykernel_3160735/3545917089.py:11: UserWarning: No data for colormapping provided via 'c'. Parameters 'cmap' will be ignored\n",
      "  plt.scatter(umap_embedding[indices, 0], umap_embedding[indices, 1], color=color_map[label], label=le2.inverse_transform([label])[0], cmap='Spectral', s=5, alpha=0.6)\n",
      "/tmp/ipykernel_3160735/3545917089.py:11: UserWarning: No data for colormapping provided via 'c'. Parameters 'cmap' will be ignored\n",
      "  plt.scatter(umap_embedding[indices, 0], umap_embedding[indices, 1], color=color_map[label], label=le2.inverse_transform([label])[0], cmap='Spectral', s=5, alpha=0.6)\n",
      "/tmp/ipykernel_3160735/3545917089.py:11: UserWarning: No data for colormapping provided via 'c'. Parameters 'cmap' will be ignored\n",
      "  plt.scatter(umap_embedding[indices, 0], umap_embedding[indices, 1], color=color_map[label], label=le2.inverse_transform([label])[0], cmap='Spectral', s=5, alpha=0.6)\n",
      "/tmp/ipykernel_3160735/3545917089.py:11: UserWarning: No data for colormapping provided via 'c'. Parameters 'cmap' will be ignored\n",
      "  plt.scatter(umap_embedding[indices, 0], umap_embedding[indices, 1], color=color_map[label], label=le2.inverse_transform([label])[0], cmap='Spectral', s=5, alpha=0.6)\n",
      "/tmp/ipykernel_3160735/3545917089.py:11: UserWarning: No data for colormapping provided via 'c'. Parameters 'cmap' will be ignored\n",
      "  plt.scatter(umap_embedding[indices, 0], umap_embedding[indices, 1], color=color_map[label], label=le2.inverse_transform([label])[0], cmap='Spectral', s=5, alpha=0.6)\n",
      "/tmp/ipykernel_3160735/3545917089.py:11: UserWarning: No data for colormapping provided via 'c'. Parameters 'cmap' will be ignored\n",
      "  plt.scatter(umap_embedding[indices, 0], umap_embedding[indices, 1], color=color_map[label], label=le2.inverse_transform([label])[0], cmap='Spectral', s=5, alpha=0.6)\n"
     ]
    },
    {
     "data": {
      "image/png": "[encoded data removed]",
      "text/plain": [
       "<Figure size 1000x700 with 1 Axes>"
      ]
     },
     "metadata": {},
     "output_type": "display_data"
    }
   ],
   "source": [
    "features = train_cls_embeddings2.drop(\"label\", axis=1).values\n",
    "labels = train_cls_embeddings2[\"label\"].values\n",
    "umap_model = umap.UMAP(n_neighbors=5, min_dist=0.3, metric=\"correlation\")\n",
    "umap_embedding = umap_model.fit_transform(features)\n",
    "unique_labels = np.unique(labels)\n",
    "colors = plt.cm.jet(np.linspace(0, 1, len(unique_labels)))\n",
    "color_map = dict(zip(unique_labels, colors))\n",
    "plt.figure(figsize=(10, 7))\n",
    "for label in unique_labels:\n",
    "    indices = labels == label\n",
    "    plt.scatter(\n",
    "        umap_embedding[indices, 0],\n",
    "        umap_embedding[indices, 1],\n",
    "        color=color_map[label],\n",
    "        label=le2.inverse_transform([label])[0],\n",
    "        cmap=\"Spectral\",\n",
    "        s=5,\n",
    "        alpha=0.6,\n",
    "    )\n",
    "plt.legend()\n",
    "plt.title(\"Happy Whale and Dolphin - Species\")\n",
    "plt.xlabel(\"UMAP Feature 1\")\n",
    "plt.ylabel(\"UMAP Feature 2\")\n",
    "plt.show()"
   ]
  }
 ],
 "metadata": {
  "kernelspec": {
   "display_name": "Python (.venv)",
   "language": "python",
   "name": ".venv"
  },
  "language_info": {
   "codemirror_mode": {
    "name": "ipython",
    "version": 3
   },
   "file_extension": ".py",
   "mimetype": "text/x-python",
   "name": "python",
   "nbconvert_exporter": "python",
   "pygments_lexer": "ipython3",
   "version": "3.9.18"
  }
 },
 "nbformat": 4,
 "nbformat_minor": 2
}
