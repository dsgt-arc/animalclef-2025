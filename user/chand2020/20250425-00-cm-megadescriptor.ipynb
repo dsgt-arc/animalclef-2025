{
 "cells": [
  {
   "cell_type": "code",
   "execution_count": 1,
   "metadata": {},
   "outputs": [],
   "source": [
    "%load_ext autoreload\n",
    "%autoreload 2"
   ]
  },
  {
   "cell_type": "code",
   "execution_count": 2,
   "metadata": {},
   "outputs": [
    {
     "name": "stdout",
     "output_type": "stream",
     "text": [
      "Current Working Directory: /storage/home/hcoda1/2/cmarutha3/clef/animalclef-2025/user/chand2020\n",
      "Changed Working Directory to: /storage/home/hcoda1/2/cmarutha3/clef/animalclef-2025\n"
     ]
    }
   ],
   "source": [
    "import os\n",
    "\n",
    "cwd = os.getcwd()\n",
    "print(\"Current Working Directory:\", cwd)\n",
    "os.chdir(os.path.expanduser(\"~/clef/animalclef-2025\"))\n",
    "print(\"Changed Working Directory to:\", os.getcwd())"
   ]
  },
  {
   "cell_type": "code",
   "execution_count": 9,
   "metadata": {},
   "outputs": [],
   "source": [
    "from animalclef.spark import get_spark\n",
    "from pyspark.sql import functions as F, Window\n",
    "from pyspark.sql import SparkSession\n",
    "from pathlib import Path\n",
    "import numpy as np\n",
    "from animalclef.dataset import split_reid_data, summarize_split\n",
    "import pandas as pd\n",
    "import matplotlib.pyplot as plt"
   ]
  },
  {
   "cell_type": "code",
   "execution_count": 4,
   "metadata": {},
   "outputs": [
    {
     "name": "stderr",
     "output_type": "stream",
     "text": [
      "Setting default log level to \"WARN\".\n",
      "To adjust logging level use sc.setLogLevel(newLevel). For SparkR, use setLogLevel(newLevel).\n",
      "25/04/25 17:31:33 WARN NativeCodeLoader: Unable to load native-hadoop library for your platform... using builtin-java classes where applicable\n",
      "25/04/25 17:31:33 WARN SparkConf: Note that spark.local.dir will be overridden by the value set by the cluster manager (via SPARK_LOCAL_DIRS in mesos/standalone/kubernetes and LOCAL_DIRS in YARN).\n"
     ]
    },
    {
     "data": {
      "text/html": [
       "\n",
       "            <div>\n",
       "                <p><b>SparkSession - in-memory</b></p>\n",
       "                \n",
       "        <div>\n",
       "            <p><b>SparkContext</b></p>\n",
       "\n",
       "            <p><a href=\"http://atl1-1-02-004-33-0.pace.gatech.edu:4040\">Spark UI</a></p>\n",
       "\n",
       "            <dl>\n",
       "              <dt>Version</dt>\n",
       "                <dd><code>v3.5.5</code></dd>\n",
       "              <dt>Master</dt>\n",
       "                <dd><code>local[4]</code></dd>\n",
       "              <dt>AppName</dt>\n",
       "                <dd><code>clef</code></dd>\n",
       "            </dl>\n",
       "        </div>\n",
       "        \n",
       "            </div>\n",
       "        "
      ],
      "text/plain": [
       "<pyspark.sql.session.SparkSession at 0x15550129e7a0>"
      ]
     },
     "metadata": {},
     "output_type": "display_data"
    }
   ],
   "source": [
    "spark = get_spark(cores=4, memory=\"4g\")\n",
    "display(spark)\n",
    "\n",
    "metadata = spark.read.parquet(f\"{Path.home()}/shared/animalclef/data/parquet/metadata\")\n",
    "\n",
    "embeddings = spark.read.parquet(\n",
    "    f\"{Path.home()}/shared/animalclef/data/embeddings/dinov2\"\n",
    ")\n",
    "\n",
    "db_embeddings_features = spark.read.parquet(\n",
    "    f\"{Path.home()}/shared/animalclef/data/embeddings/megadescriptor-l-384/db_embeddings_features.parquet\"\n",
    ")\n",
    "db_embeddings_metadata = spark.read.parquet(\n",
    "    f\"{Path.home()}/shared/animalclef/data/embeddings/megadescriptor-l-384/db_embeddings_metadata.parquet\"\n",
    ")\n",
    "query_embeddings_features = spark.read.parquet(\n",
    "    f\"{Path.home()}/shared/animalclef/data/embeddings/megadescriptor-l-384/query_embeddings_features.parquet\"\n",
    ")\n",
    "query_embeddings_metadata = spark.read.parquet(\n",
    "    f\"{Path.home()}/shared/animalclef/data/embeddings/megadescriptor-l-384/query_embeddings_metadata.parquet\"\n",
    ")"
   ]
  },
  {
   "cell_type": "code",
   "execution_count": 7,
   "metadata": {},
   "outputs": [
    {
     "name": "stderr",
     "output_type": "stream",
     "text": [
      "                                                                                \r"
     ]
    }
   ],
   "source": [
    "# Database\n",
    "df_db_embeddings_metadata = db_embeddings_metadata.toPandas()\n",
    "df_db_embeddings_features = db_embeddings_features.toPandas()\n",
    "df_db_embeddings_features[\"cls\"] = df_db_embeddings_features.apply(\n",
    "    lambda row: np.array(row, dtype=float), axis=1\n",
    ")\n",
    "df_db_embeddings_features[\"image_id\"] = df_db_embeddings_metadata[\"image_id\"]\n",
    "\n",
    "# Query\n",
    "df_query_embeddings_metadata = query_embeddings_metadata.toPandas()\n",
    "df_query_embeddings_features = query_embeddings_features.toPandas()\n",
    "df_query_embeddings_features[\"cls\"] = df_query_embeddings_features.apply(\n",
    "    lambda row: np.array(row, dtype=float), axis=1\n",
    ")\n",
    "df_query_embeddings_features[\"image_id\"] = df_query_embeddings_metadata[\"image_id\"]"
   ]
  },
  {
   "cell_type": "code",
   "execution_count": 11,
   "metadata": {},
   "outputs": [],
   "source": [
    "spark = SparkSession.builder.appName(\"PandasToPySpark\").getOrCreate()\n",
    "db_embeddings = spark.createDataFrame(df_db_embeddings_features[[\"image_id\", \"cls\"]])\n",
    "query_embeddings = spark.createDataFrame(\n",
    "    df_query_embeddings_features[[\"image_id\", \"cls\"]]\n",
    ")"
   ]
  },
  {
   "cell_type": "code",
   "execution_count": 12,
   "metadata": {},
   "outputs": [
    {
     "name": "stdout",
     "output_type": "stream",
     "text": [
      "root\n",
      " |-- image_id: integer (nullable = true)\n",
      " |-- identity: string (nullable = true)\n",
      " |-- dataset: string (nullable = true)\n",
      " |-- cls: array (nullable = true)\n",
      " |    |-- element: double (containsNull = true)\n",
      " |-- identity_count: long (nullable = false)\n",
      "\n"
     ]
    },
    {
     "name": "stderr",
     "output_type": "stream",
     "text": [
      "25/04/25 17:49:19 WARN TaskSetManager: Stage 17 contains a task of very large size (120126 KiB). The maximum recommended task size is 1000 KiB.\n",
      "                                                                                \r"
     ]
    },
    {
     "name": "stdout",
     "output_type": "stream",
     "text": [
      "+--------+------------------+----------+--------------------+--------------+\n",
      "|image_id|          identity|   dataset|                 cls|identity_count|\n",
      "+--------+------------------+----------+--------------------+--------------+\n",
      "|     329|LynxID2025_lynx_04|LynxID2025|[0.75290232896804...|             3|\n",
      "|     472|LynxID2025_lynx_04|LynxID2025|[0.46819686889648...|             3|\n",
      "|    3414|LynxID2025_lynx_04|LynxID2025|[0.19465856254100...|             3|\n",
      "|    2264|LynxID2025_lynx_08|LynxID2025|[0.17942652106285...|             1|\n",
      "|      17|LynxID2025_lynx_16|LynxID2025|[0.15272599458694...|            36|\n",
      "|     189|LynxID2025_lynx_16|LynxID2025|[0.46724987030029...|            36|\n",
      "|     407|LynxID2025_lynx_16|LynxID2025|[0.45012849569320...|            36|\n",
      "|     686|LynxID2025_lynx_16|LynxID2025|[0.12884379923343...|            36|\n",
      "|     697|LynxID2025_lynx_16|LynxID2025|[0.22342705726623...|            36|\n",
      "|     717|LynxID2025_lynx_16|LynxID2025|[0.18744789063930...|            36|\n",
      "|     841|LynxID2025_lynx_16|LynxID2025|[0.22192141413688...|            36|\n",
      "|     946|LynxID2025_lynx_16|LynxID2025|[-0.0814021155238...|            36|\n",
      "|    1049|LynxID2025_lynx_16|LynxID2025|[0.12553241848945...|            36|\n",
      "|    1092|LynxID2025_lynx_16|LynxID2025|[-0.0725066289305...|            36|\n",
      "|    1366|LynxID2025_lynx_16|LynxID2025|[0.14161927998065...|            36|\n",
      "|    1387|LynxID2025_lynx_16|LynxID2025|[0.25748723745346...|            36|\n",
      "|    1440|LynxID2025_lynx_16|LynxID2025|[0.36345580220222...|            36|\n",
      "|    1549|LynxID2025_lynx_16|LynxID2025|[0.10137216746807...|            36|\n",
      "|    1608|LynxID2025_lynx_16|LynxID2025|[0.00840539485216...|            36|\n",
      "|    2122|LynxID2025_lynx_16|LynxID2025|[0.28779283165931...|            36|\n",
      "+--------+------------------+----------+--------------------+--------------+\n",
      "only showing top 20 rows\n",
      "\n"
     ]
    }
   ],
   "source": [
    "combined_embeddings = db_embeddings.unionByName(query_embeddings)\n",
    "\n",
    "df = metadata.join(combined_embeddings, on=[\"image_id\"]).select(\n",
    "    \"image_id\",\n",
    "    \"identity\",\n",
    "    \"dataset\",\n",
    "    \"cls\",\n",
    "    F.count(\"image_id\").over(Window.partitionBy(\"identity\")).alias(\"identity_count\"),\n",
    ")\n",
    "df.printSchema()\n",
    "df.show()"
   ]
  },
  {
   "cell_type": "code",
   "execution_count": 13,
   "metadata": {},
   "outputs": [
    {
     "name": "stderr",
     "output_type": "stream",
     "text": [
      "25/04/25 17:49:26 WARN TaskSetManager: Stage 21 contains a task of very large size (120126 KiB). The maximum recommended task size is 1000 KiB.\n",
      "                                                                                \r"
     ]
    },
    {
     "data": {
      "text/html": [
       "<div>\n",
       "<style scoped>\n",
       "    .dataframe tbody tr th:only-of-type {\n",
       "        vertical-align: middle;\n",
       "    }\n",
       "\n",
       "    .dataframe tbody tr th {\n",
       "        vertical-align: top;\n",
       "    }\n",
       "\n",
       "    .dataframe thead th {\n",
       "        text-align: right;\n",
       "    }\n",
       "</style>\n",
       "<table border=\"1\" class=\"dataframe\">\n",
       "  <thead>\n",
       "    <tr style=\"text-align: right;\">\n",
       "      <th></th>\n",
       "      <th>Split</th>\n",
       "      <th>Num Individuals</th>\n",
       "      <th>Num Images</th>\n",
       "      <th>Train Image Overlap</th>\n",
       "      <th>Val Image Overlap</th>\n",
       "      <th>Test Image Overlap</th>\n",
       "      <th>Train Image %</th>\n",
       "      <th>Val Image %</th>\n",
       "      <th>Test Image %</th>\n",
       "      <th>Known Individuals</th>\n",
       "      <th>Unknown Individuals</th>\n",
       "    </tr>\n",
       "  </thead>\n",
       "  <tbody>\n",
       "    <tr>\n",
       "      <th>0</th>\n",
       "      <td>Train</td>\n",
       "      <td>404</td>\n",
       "      <td>3417</td>\n",
       "      <td>3417</td>\n",
       "      <td>0</td>\n",
       "      <td>0</td>\n",
       "      <td>100.0</td>\n",
       "      <td>0.0</td>\n",
       "      <td>0.0</td>\n",
       "      <td>404</td>\n",
       "      <td>0</td>\n",
       "    </tr>\n",
       "    <tr>\n",
       "      <th>1</th>\n",
       "      <td>Validation</td>\n",
       "      <td>458</td>\n",
       "      <td>2501</td>\n",
       "      <td>0</td>\n",
       "      <td>2501</td>\n",
       "      <td>0</td>\n",
       "      <td>0.0</td>\n",
       "      <td>100.0</td>\n",
       "      <td>0.0</td>\n",
       "      <td>404</td>\n",
       "      <td>54</td>\n",
       "    </tr>\n",
       "    <tr>\n",
       "      <th>2</th>\n",
       "      <td>Test</td>\n",
       "      <td>620</td>\n",
       "      <td>6617</td>\n",
       "      <td>0</td>\n",
       "      <td>0</td>\n",
       "      <td>6617</td>\n",
       "      <td>0.0</td>\n",
       "      <td>0.0</td>\n",
       "      <td>100.0</td>\n",
       "      <td>404</td>\n",
       "      <td>216</td>\n",
       "    </tr>\n",
       "  </tbody>\n",
       "</table>\n",
       "</div>"
      ],
      "text/plain": [
       "        Split  Num Individuals  Num Images  Train Image Overlap  \\\n",
       "0       Train              404        3417                 3417   \n",
       "1  Validation              458        2501                    0   \n",
       "2        Test              620        6617                    0   \n",
       "\n",
       "   Val Image Overlap  Test Image Overlap  Train Image %  Val Image %  \\\n",
       "0                  0                   0          100.0          0.0   \n",
       "1               2501                   0            0.0        100.0   \n",
       "2                  0                6617            0.0          0.0   \n",
       "\n",
       "   Test Image %  Known Individuals  Unknown Individuals  \n",
       "0           0.0                404                    0  \n",
       "1           0.0                404                   54  \n",
       "2         100.0                404                  216  "
      ]
     },
     "execution_count": 13,
     "metadata": {},
     "output_type": "execute_result"
    }
   ],
   "source": [
    "pdf = df.toPandas()\n",
    "cond = (~pdf.identity.isnull()) & (pdf.identity_count > 2)\n",
    "train_df, val_df, test_df = split_reid_data(pdf[cond])\n",
    "summarize_split(train_df, val_df, test_df)"
   ]
  },
  {
   "cell_type": "code",
   "execution_count": 14,
   "metadata": {},
   "outputs": [
    {
     "data": {
      "text/html": [
       "<div>\n",
       "<style scoped>\n",
       "    .dataframe tbody tr th:only-of-type {\n",
       "        vertical-align: middle;\n",
       "    }\n",
       "\n",
       "    .dataframe tbody tr th {\n",
       "        vertical-align: top;\n",
       "    }\n",
       "\n",
       "    .dataframe thead th {\n",
       "        text-align: right;\n",
       "    }\n",
       "</style>\n",
       "<table border=\"1\" class=\"dataframe\">\n",
       "  <thead>\n",
       "    <tr style=\"text-align: right;\">\n",
       "      <th></th>\n",
       "      <th>image_id</th>\n",
       "      <th>identity</th>\n",
       "      <th>dataset</th>\n",
       "      <th>cls</th>\n",
       "      <th>identity_count</th>\n",
       "    </tr>\n",
       "  </thead>\n",
       "  <tbody>\n",
       "    <tr>\n",
       "      <th>7</th>\n",
       "      <td>686</td>\n",
       "      <td>LynxID2025_lynx_16</td>\n",
       "      <td>LynxID2025</td>\n",
       "      <td>[0.12884379923343658, -0.25372782349586487, 0....</td>\n",
       "      <td>36</td>\n",
       "    </tr>\n",
       "    <tr>\n",
       "      <th>8</th>\n",
       "      <td>697</td>\n",
       "      <td>LynxID2025_lynx_16</td>\n",
       "      <td>LynxID2025</td>\n",
       "      <td>[0.22342705726623535, -0.3239986002445221, 0.2...</td>\n",
       "      <td>36</td>\n",
       "    </tr>\n",
       "    <tr>\n",
       "      <th>10</th>\n",
       "      <td>841</td>\n",
       "      <td>LynxID2025_lynx_16</td>\n",
       "      <td>LynxID2025</td>\n",
       "      <td>[0.2219214141368866, -0.10834399610757828, -0....</td>\n",
       "      <td>36</td>\n",
       "    </tr>\n",
       "    <tr>\n",
       "      <th>11</th>\n",
       "      <td>946</td>\n",
       "      <td>LynxID2025_lynx_16</td>\n",
       "      <td>LynxID2025</td>\n",
       "      <td>[-0.08140211552381516, 0.06400506943464279, 0....</td>\n",
       "      <td>36</td>\n",
       "    </tr>\n",
       "    <tr>\n",
       "      <th>14</th>\n",
       "      <td>1366</td>\n",
       "      <td>LynxID2025_lynx_16</td>\n",
       "      <td>LynxID2025</td>\n",
       "      <td>[0.14161927998065948, -0.3156452775001526, 0.2...</td>\n",
       "      <td>36</td>\n",
       "    </tr>\n",
       "  </tbody>\n",
       "</table>\n",
       "</div>"
      ],
      "text/plain": [
       "    image_id            identity     dataset  \\\n",
       "7        686  LynxID2025_lynx_16  LynxID2025   \n",
       "8        697  LynxID2025_lynx_16  LynxID2025   \n",
       "10       841  LynxID2025_lynx_16  LynxID2025   \n",
       "11       946  LynxID2025_lynx_16  LynxID2025   \n",
       "14      1366  LynxID2025_lynx_16  LynxID2025   \n",
       "\n",
       "                                                  cls  identity_count  \n",
       "7   [0.12884379923343658, -0.25372782349586487, 0....              36  \n",
       "8   [0.22342705726623535, -0.3239986002445221, 0.2...              36  \n",
       "10  [0.2219214141368866, -0.10834399610757828, -0....              36  \n",
       "11  [-0.08140211552381516, 0.06400506943464279, 0....              36  \n",
       "14  [0.14161927998065948, -0.3156452775001526, 0.2...              36  "
      ]
     },
     "execution_count": 14,
     "metadata": {},
     "output_type": "execute_result"
    }
   ],
   "source": [
    "train_df.head(5)"
   ]
  },
  {
   "cell_type": "markdown",
   "metadata": {},
   "source": [
    "### k-nn model"
   ]
  },
  {
   "cell_type": "code",
   "execution_count": 15,
   "metadata": {},
   "outputs": [
    {
     "data": {
      "text/plain": [
       "array([[ 97.10972 ],\n",
       "       [ 55.48004 ],\n",
       "       [ 32.124657],\n",
       "       ...,\n",
       "       [511.99176 ],\n",
       "       [635.6836  ],\n",
       "       [735.3659  ]], shape=(2501, 1), dtype=float32)"
      ]
     },
     "metadata": {},
     "output_type": "display_data"
    },
    {
     "data": {
      "text/plain": [
       "np.float64(0.5702644233602071)"
      ]
     },
     "metadata": {},
     "output_type": "display_data"
    },
    {
     "data": {
      "text/plain": [
       "np.float64(0.0)"
      ]
     },
     "metadata": {},
     "output_type": "display_data"
    }
   ],
   "source": [
    "import faiss\n",
    "from animalclef.metrics import BAKS, BAUS\n",
    "\n",
    "X_train = np.stack(train_df.cls.values)\n",
    "X_val = np.stack(val_df.cls.values)\n",
    "X_test = np.stack(test_df.cls.values)\n",
    "\n",
    "# Create a FAISS index for efficient nearest neighbor search\n",
    "index = faiss.IndexFlatL2(X_train.shape[1])\n",
    "index.add(X_train)\n",
    "\n",
    "# Perform a search for the validation set\n",
    "# use the nearest neighbor for now for voting\n",
    "k = 1\n",
    "# Distances and indices for validation set\n",
    "dist_val, idx_val = index.search(X_val, k)\n",
    "display(dist_val)\n",
    "\n",
    "# Calculate the accuracy for validation and test sets\n",
    "# do the actual prediction\n",
    "\n",
    "# identities in val not in train\n",
    "predictions_val = train_df.iloc[idx_val.flatten()][\"identity\"].values\n",
    "identity_val_only = sorted(\n",
    "    set(val_df.identity.unique()) - set(train_df.identity.unique())\n",
    ")\n",
    "\n",
    "display(\n",
    "    BAKS(val_df[\"identity\"].values, predictions_val, identity_val_only),\n",
    "    BAUS(val_df[\"identity\"].values, predictions_val, identity_val_only, \"unknown\"),\n",
    ")"
   ]
  },
  {
   "cell_type": "code",
   "execution_count": 16,
   "metadata": {},
   "outputs": [
    {
     "name": "stderr",
     "output_type": "stream",
     "text": [
      "100%|██████████| 3417/3417 [00:14<00:00, 234.94it/s]"
     ]
    },
    {
     "name": "stdout",
     "output_type": "stream",
     "text": [
      "Min distance: 28.50634765625\n",
      "Max distance: 1892.600830078125\n",
      "Mean distance: 554.9442749023438\n",
      "Std distance: 430.27520751953125\n",
      "IQR: 670.035888671875\n",
      "Q1: 169.99191284179688\n",
      "Q3: 840.0277709960938\n",
      "Median: 452.63128662109375\n",
      "MAD: 310.36236572265625\n"
     ]
    },
    {
     "name": "stderr",
     "output_type": "stream",
     "text": [
      "\n"
     ]
    }
   ],
   "source": [
    "# let's find the min/average distance to every other individual in test set.\n",
    "# let's create a function to cache the distances\n",
    "from functools import lru_cache\n",
    "from tqdm import tqdm\n",
    "\n",
    "\n",
    "def get_min_distance_to_neighbor(train_df):\n",
    "    @lru_cache(maxsize=16)\n",
    "    def get_index(individual):\n",
    "        \"\"\"get all embeddings that do not belong to an individual. This will form\n",
    "        the minimum intercluster distance.\"\"\"\n",
    "        sub = train_df[train_df.identity != individual]\n",
    "        # Use the dimension of the embedding vectors\n",
    "        embedding_dim = len(sub.cls.iloc[0])  # Get dimension from first embedding\n",
    "        index = faiss.IndexFlatL2(embedding_dim)\n",
    "        index.add(np.stack(sub.cls.values))\n",
    "        return index\n",
    "\n",
    "    distances = []\n",
    "    # order the training set by identity so that our lru cache is more efficient\n",
    "    train_df = train_df.sort_values(by=\"identity\")\n",
    "    for row in tqdm(train_df.itertuples(), total=len(train_df)):\n",
    "        # get the index for the individual\n",
    "        index = get_index(row.identity)\n",
    "        # search for the nearest neighbor in the training set\n",
    "        dist, _ = index.search(np.array([row.cls]), 1)\n",
    "        # get the distance to the nearest neighbors\n",
    "        distances.append(dist[0][0])\n",
    "    return np.array(distances)\n",
    "\n",
    "\n",
    "# get stats on the distances\n",
    "distances = get_min_distance_to_neighbor(train_df)\n",
    "print(f\"Min distance: {distances.min()}\")\n",
    "print(f\"Max distance: {distances.max()}\")\n",
    "print(f\"Mean distance: {distances.mean()}\")\n",
    "print(f\"Std distance: {distances.std()}\")\n",
    "# IQR\n",
    "q1 = np.percentile(distances, 25)\n",
    "q2 = np.percentile(distances, 50)\n",
    "q3 = np.percentile(distances, 75)\n",
    "iqr = q3 - q1\n",
    "print(f\"IQR: {iqr}\")\n",
    "print(f\"Q1: {q1}\")\n",
    "print(f\"Q3: {q3}\")\n",
    "# MAD\n",
    "print(f\"Median: {q2}\")\n",
    "mad = np.median(np.abs(distances - np.median(distances)))\n",
    "print(f\"MAD: {mad}\")"
   ]
  },
  {
   "cell_type": "code",
   "execution_count": 17,
   "metadata": {},
   "outputs": [
    {
     "name": "stderr",
     "output_type": "stream",
     "text": [
      "100%|██████████| 20/20 [00:08<00:00,  2.26it/s]\n"
     ]
    },
    {
     "data": {
      "text/html": [
       "<div>\n",
       "<style scoped>\n",
       "    .dataframe tbody tr th:only-of-type {\n",
       "        vertical-align: middle;\n",
       "    }\n",
       "\n",
       "    .dataframe tbody tr th {\n",
       "        vertical-align: top;\n",
       "    }\n",
       "\n",
       "    .dataframe thead th {\n",
       "        text-align: right;\n",
       "    }\n",
       "</style>\n",
       "<table border=\"1\" class=\"dataframe\">\n",
       "  <thead>\n",
       "    <tr style=\"text-align: right;\">\n",
       "      <th></th>\n",
       "      <th>threshold</th>\n",
       "      <th>baks</th>\n",
       "      <th>baus</th>\n",
       "      <th>score</th>\n",
       "    </tr>\n",
       "  </thead>\n",
       "  <tbody>\n",
       "    <tr>\n",
       "      <th>0</th>\n",
       "      <td>10.000000</td>\n",
       "      <td>0.002943</td>\n",
       "      <td>1.000000</td>\n",
       "      <td>0.054247</td>\n",
       "    </tr>\n",
       "    <tr>\n",
       "      <th>1</th>\n",
       "      <td>62.105263</td>\n",
       "      <td>0.117292</td>\n",
       "      <td>0.991821</td>\n",
       "      <td>0.341076</td>\n",
       "    </tr>\n",
       "    <tr>\n",
       "      <th>2</th>\n",
       "      <td>114.210526</td>\n",
       "      <td>0.231340</td>\n",
       "      <td>0.899776</td>\n",
       "      <td>0.456239</td>\n",
       "    </tr>\n",
       "    <tr>\n",
       "      <th>3</th>\n",
       "      <td>166.315789</td>\n",
       "      <td>0.306814</td>\n",
       "      <td>0.772793</td>\n",
       "      <td>0.486933</td>\n",
       "    </tr>\n",
       "    <tr>\n",
       "      <th>4</th>\n",
       "      <td>218.421053</td>\n",
       "      <td>0.369235</td>\n",
       "      <td>0.631642</td>\n",
       "      <td>0.482933</td>\n",
       "    </tr>\n",
       "    <tr>\n",
       "      <th>5</th>\n",
       "      <td>270.526316</td>\n",
       "      <td>0.426672</td>\n",
       "      <td>0.575140</td>\n",
       "      <td>0.495375</td>\n",
       "    </tr>\n",
       "    <tr>\n",
       "      <th>6</th>\n",
       "      <td>322.631579</td>\n",
       "      <td>0.468344</td>\n",
       "      <td>0.512162</td>\n",
       "      <td>0.489763</td>\n",
       "    </tr>\n",
       "    <tr>\n",
       "      <th>7</th>\n",
       "      <td>374.736842</td>\n",
       "      <td>0.495232</td>\n",
       "      <td>0.454414</td>\n",
       "      <td>0.474384</td>\n",
       "    </tr>\n",
       "    <tr>\n",
       "      <th>8</th>\n",
       "      <td>426.842105</td>\n",
       "      <td>0.514009</td>\n",
       "      <td>0.419134</td>\n",
       "      <td>0.464154</td>\n",
       "    </tr>\n",
       "    <tr>\n",
       "      <th>9</th>\n",
       "      <td>478.947368</td>\n",
       "      <td>0.524140</td>\n",
       "      <td>0.364144</td>\n",
       "      <td>0.436878</td>\n",
       "    </tr>\n",
       "    <tr>\n",
       "      <th>10</th>\n",
       "      <td>531.052632</td>\n",
       "      <td>0.529091</td>\n",
       "      <td>0.308409</td>\n",
       "      <td>0.403951</td>\n",
       "    </tr>\n",
       "    <tr>\n",
       "      <th>11</th>\n",
       "      <td>583.157895</td>\n",
       "      <td>0.543534</td>\n",
       "      <td>0.269580</td>\n",
       "      <td>0.382787</td>\n",
       "    </tr>\n",
       "    <tr>\n",
       "      <th>12</th>\n",
       "      <td>635.263158</td>\n",
       "      <td>0.552610</td>\n",
       "      <td>0.227323</td>\n",
       "      <td>0.354431</td>\n",
       "    </tr>\n",
       "    <tr>\n",
       "      <th>13</th>\n",
       "      <td>687.368421</td>\n",
       "      <td>0.557505</td>\n",
       "      <td>0.188675</td>\n",
       "      <td>0.324326</td>\n",
       "    </tr>\n",
       "    <tr>\n",
       "      <th>14</th>\n",
       "      <td>739.473684</td>\n",
       "      <td>0.557918</td>\n",
       "      <td>0.165275</td>\n",
       "      <td>0.303661</td>\n",
       "    </tr>\n",
       "    <tr>\n",
       "      <th>15</th>\n",
       "      <td>791.578947</td>\n",
       "      <td>0.562868</td>\n",
       "      <td>0.147642</td>\n",
       "      <td>0.288276</td>\n",
       "    </tr>\n",
       "    <tr>\n",
       "      <th>16</th>\n",
       "      <td>843.684211</td>\n",
       "      <td>0.566210</td>\n",
       "      <td>0.133921</td>\n",
       "      <td>0.275368</td>\n",
       "    </tr>\n",
       "    <tr>\n",
       "      <th>17</th>\n",
       "      <td>895.789474</td>\n",
       "      <td>0.566375</td>\n",
       "      <td>0.121875</td>\n",
       "      <td>0.262729</td>\n",
       "    </tr>\n",
       "    <tr>\n",
       "      <th>18</th>\n",
       "      <td>947.894737</td>\n",
       "      <td>0.569439</td>\n",
       "      <td>0.109365</td>\n",
       "      <td>0.249553</td>\n",
       "    </tr>\n",
       "    <tr>\n",
       "      <th>19</th>\n",
       "      <td>1000.000000</td>\n",
       "      <td>0.570264</td>\n",
       "      <td>0.095795</td>\n",
       "      <td>0.233728</td>\n",
       "    </tr>\n",
       "  </tbody>\n",
       "</table>\n",
       "</div>"
      ],
      "text/plain": [
       "      threshold      baks      baus     score\n",
       "0     10.000000  0.002943  1.000000  0.054247\n",
       "1     62.105263  0.117292  0.991821  0.341076\n",
       "2    114.210526  0.231340  0.899776  0.456239\n",
       "3    166.315789  0.306814  0.772793  0.486933\n",
       "4    218.421053  0.369235  0.631642  0.482933\n",
       "5    270.526316  0.426672  0.575140  0.495375\n",
       "6    322.631579  0.468344  0.512162  0.489763\n",
       "7    374.736842  0.495232  0.454414  0.474384\n",
       "8    426.842105  0.514009  0.419134  0.464154\n",
       "9    478.947368  0.524140  0.364144  0.436878\n",
       "10   531.052632  0.529091  0.308409  0.403951\n",
       "11   583.157895  0.543534  0.269580  0.382787\n",
       "12   635.263158  0.552610  0.227323  0.354431\n",
       "13   687.368421  0.557505  0.188675  0.324326\n",
       "14   739.473684  0.557918  0.165275  0.303661\n",
       "15   791.578947  0.562868  0.147642  0.288276\n",
       "16   843.684211  0.566210  0.133921  0.275368\n",
       "17   895.789474  0.566375  0.121875  0.262729\n",
       "18   947.894737  0.569439  0.109365  0.249553\n",
       "19  1000.000000  0.570264  0.095795  0.233728"
      ]
     },
     "metadata": {},
     "output_type": "display_data"
    }
   ],
   "source": [
    "# now let's figure out a good threshold on the validation set\n",
    "\n",
    "\n",
    "def make_prediction(train_df, other_df, threshold, new_label=\"new_individual\"):\n",
    "    # Create a FAISS index for efficient nearest neighbor search\n",
    "    X_train = np.stack(train_df.cls.values)\n",
    "    X_other = np.stack(other_df.cls.values)\n",
    "\n",
    "    index = faiss.IndexFlatL2(X_train.shape[1])\n",
    "    index.add(X_train)\n",
    "\n",
    "    dist, idx = index.search(X_other, 1)\n",
    "    predictions = train_df.iloc[idx.flatten()][\"identity\"].values\n",
    "    # if the distance is above a threshold, it's unknown\n",
    "    for i, v in enumerate(dist.flatten()):\n",
    "        if v > threshold:\n",
    "            predictions[i] = new_label\n",
    "    return predictions\n",
    "\n",
    "\n",
    "def search_threshold(train_df, other_df, thresholds):\n",
    "    identity_other_only = sorted(\n",
    "        set(other_df.identity.unique()) - set(train_df.identity.unique())\n",
    "    )\n",
    "\n",
    "    scores = []\n",
    "    for threshold in tqdm(thresholds):\n",
    "        predictions = make_prediction(train_df, other_df, threshold)\n",
    "        baks = BAKS(val_df[\"identity\"].values, predictions, identity_other_only)\n",
    "        baus = BAUS(\n",
    "            val_df[\"identity\"].values,\n",
    "            predictions,\n",
    "            identity_other_only,\n",
    "            \"new_individual\",\n",
    "        )\n",
    "        # geometric average\n",
    "        score = np.sqrt(baks * baus)\n",
    "        scores.append(\n",
    "            {\n",
    "                \"threshold\": threshold,\n",
    "                \"baks\": baks,\n",
    "                \"baus\": baus,\n",
    "                \"score\": score,\n",
    "            }\n",
    "        )\n",
    "    return pd.DataFrame(scores)\n",
    "\n",
    "\n",
    "base_threshold_df = search_threshold(train_df, val_df, np.linspace(10, 1000, 20))\n",
    "display(base_threshold_df)"
   ]
  },
  {
   "cell_type": "code",
   "execution_count": 18,
   "metadata": {},
   "outputs": [
    {
     "data": {
      "image/png": "[encoded data removed]",
      "text/plain": [
       "<Figure size 640x480 with 1 Axes>"
      ]
     },
     "metadata": {},
     "output_type": "display_data"
    }
   ],
   "source": [
    "def plot_threshold_score(df, col=\"threshold\"):\n",
    "    best_score = df[\"score\"].max()\n",
    "    best_threshold = df[col][df[\"score\"].idxmax()]\n",
    "\n",
    "    # plot baus and baks\n",
    "    plt.plot(\n",
    "        df[col],\n",
    "        df[\"baks\"],\n",
    "        label=f\"BAKS (best {df['baks'].max():.2f})\",\n",
    "    )\n",
    "    plt.plot(\n",
    "        df[col],\n",
    "        df[\"baus\"],\n",
    "        label=f\"BAUS (best {df['baus'].max():.2f})\",\n",
    "    )\n",
    "    plt.plot(\n",
    "        df[col],\n",
    "        df[\"score\"],\n",
    "        label=f\"score (best {best_score:.2f})\",\n",
    "    )\n",
    "    # line at the best threshold\n",
    "    plt.axvline(\n",
    "        best_threshold,\n",
    "        color=\"red\",\n",
    "        linestyle=\"--\",\n",
    "        label=f\"best threshold: {best_threshold:.2f}\",\n",
    "    )\n",
    "    plt.xlabel(\"Threshold\")\n",
    "    plt.ylabel(\"Geometric mean of BAKS and BAUS\")\n",
    "    plt.title(\"Threshold vs Geometric mean of BAKS and BAUS\")\n",
    "    plt.legend()\n",
    "    plt.show()\n",
    "\n",
    "\n",
    "plot_threshold_score(base_threshold_df)"
   ]
  },
  {
   "cell_type": "code",
   "execution_count": 19,
   "metadata": {},
   "outputs": [
    {
     "data": {
      "text/plain": [
       "{'initial_threshold': np.float32(452.6313), 'mad': np.float32(310.36237)}"
      ]
     },
     "metadata": {},
     "output_type": "display_data"
    },
    {
     "name": "stderr",
     "output_type": "stream",
     "text": [
      "100%|██████████| 100/100 [00:44<00:00,  2.27it/s]\n"
     ]
    },
    {
     "data": {
      "text/html": [
       "<div>\n",
       "<style scoped>\n",
       "    .dataframe tbody tr th:only-of-type {\n",
       "        vertical-align: middle;\n",
       "    }\n",
       "\n",
       "    .dataframe tbody tr th {\n",
       "        vertical-align: top;\n",
       "    }\n",
       "\n",
       "    .dataframe thead th {\n",
       "        text-align: right;\n",
       "    }\n",
       "</style>\n",
       "<table border=\"1\" class=\"dataframe\">\n",
       "  <thead>\n",
       "    <tr style=\"text-align: right;\">\n",
       "      <th></th>\n",
       "      <th>threshold</th>\n",
       "      <th>baks</th>\n",
       "      <th>baus</th>\n",
       "      <th>score</th>\n",
       "      <th>k</th>\n",
       "    </tr>\n",
       "  </thead>\n",
       "  <tbody>\n",
       "    <tr>\n",
       "      <th>0</th>\n",
       "      <td>-478.455811</td>\n",
       "      <td>0.000000</td>\n",
       "      <td>1.000000</td>\n",
       "      <td>0.000000</td>\n",
       "      <td>-3.000000</td>\n",
       "    </tr>\n",
       "    <tr>\n",
       "      <th>1</th>\n",
       "      <td>-459.645970</td>\n",
       "      <td>0.000000</td>\n",
       "      <td>1.000000</td>\n",
       "      <td>0.000000</td>\n",
       "      <td>-2.939394</td>\n",
       "    </tr>\n",
       "    <tr>\n",
       "      <th>2</th>\n",
       "      <td>-440.836130</td>\n",
       "      <td>0.000000</td>\n",
       "      <td>1.000000</td>\n",
       "      <td>0.000000</td>\n",
       "      <td>-2.878788</td>\n",
       "    </tr>\n",
       "    <tr>\n",
       "      <th>3</th>\n",
       "      <td>-422.026290</td>\n",
       "      <td>0.000000</td>\n",
       "      <td>1.000000</td>\n",
       "      <td>0.000000</td>\n",
       "      <td>-2.818182</td>\n",
       "    </tr>\n",
       "    <tr>\n",
       "      <th>4</th>\n",
       "      <td>-403.216449</td>\n",
       "      <td>0.000000</td>\n",
       "      <td>1.000000</td>\n",
       "      <td>0.000000</td>\n",
       "      <td>-2.757576</td>\n",
       "    </tr>\n",
       "    <tr>\n",
       "      <th>...</th>\n",
       "      <td>...</td>\n",
       "      <td>...</td>\n",
       "      <td>...</td>\n",
       "      <td>...</td>\n",
       "      <td>...</td>\n",
       "    </tr>\n",
       "    <tr>\n",
       "      <th>95</th>\n",
       "      <td>1308.479022</td>\n",
       "      <td>0.570264</td>\n",
       "      <td>0.014997</td>\n",
       "      <td>0.092479</td>\n",
       "      <td>2.757576</td>\n",
       "    </tr>\n",
       "    <tr>\n",
       "      <th>96</th>\n",
       "      <td>1327.288863</td>\n",
       "      <td>0.570264</td>\n",
       "      <td>0.012553</td>\n",
       "      <td>0.084609</td>\n",
       "      <td>2.818182</td>\n",
       "    </tr>\n",
       "    <tr>\n",
       "      <th>97</th>\n",
       "      <td>1346.098703</td>\n",
       "      <td>0.570264</td>\n",
       "      <td>0.011892</td>\n",
       "      <td>0.082350</td>\n",
       "      <td>2.878788</td>\n",
       "    </tr>\n",
       "    <tr>\n",
       "      <th>98</th>\n",
       "      <td>1364.908543</td>\n",
       "      <td>0.570264</td>\n",
       "      <td>0.010182</td>\n",
       "      <td>0.076198</td>\n",
       "      <td>2.939394</td>\n",
       "    </tr>\n",
       "    <tr>\n",
       "      <th>99</th>\n",
       "      <td>1383.718384</td>\n",
       "      <td>0.570264</td>\n",
       "      <td>0.008681</td>\n",
       "      <td>0.070359</td>\n",
       "      <td>3.000000</td>\n",
       "    </tr>\n",
       "  </tbody>\n",
       "</table>\n",
       "<p>100 rows × 5 columns</p>\n",
       "</div>"
      ],
      "text/plain": [
       "      threshold      baks      baus     score         k\n",
       "0   -478.455811  0.000000  1.000000  0.000000 -3.000000\n",
       "1   -459.645970  0.000000  1.000000  0.000000 -2.939394\n",
       "2   -440.836130  0.000000  1.000000  0.000000 -2.878788\n",
       "3   -422.026290  0.000000  1.000000  0.000000 -2.818182\n",
       "4   -403.216449  0.000000  1.000000  0.000000 -2.757576\n",
       "..          ...       ...       ...       ...       ...\n",
       "95  1308.479022  0.570264  0.014997  0.092479  2.757576\n",
       "96  1327.288863  0.570264  0.012553  0.084609  2.818182\n",
       "97  1346.098703  0.570264  0.011892  0.082350  2.878788\n",
       "98  1364.908543  0.570264  0.010182  0.076198  2.939394\n",
       "99  1383.718384  0.570264  0.008681  0.070359  3.000000\n",
       "\n",
       "[100 rows x 5 columns]"
      ]
     },
     "metadata": {},
     "output_type": "display_data"
    },
    {
     "data": {
      "image/png": "[encoded data removed]",
      "text/plain": [
       "<Figure size 640x480 with 1 Axes>"
      ]
     },
     "metadata": {},
     "output_type": "display_data"
    }
   ],
   "source": [
    "# keeping some old numbers when we compared train to test\n",
    "# initial_threshold = 583.8616943359375\n",
    "# mad = 180.09857177734375\n",
    "# best k = -1.18 -> 371\n",
    "# afterwards when we just look at the train set\n",
    "# initial_threshold = 531.76\n",
    "# mad = 165.7\n",
    "# best k = -0.94\n",
    "\n",
    "initial_threshold = np.median(distances)\n",
    "mad = np.median(np.abs(distances - initial_threshold))\n",
    "display(\n",
    "    {\n",
    "        \"initial_threshold\": initial_threshold,\n",
    "        \"mad\": mad,\n",
    "    }\n",
    ")\n",
    "k = np.linspace(-3, 3, 100)\n",
    "mad_threshold_df = search_threshold(\n",
    "    train_df, val_df, initial_threshold + (np.linspace(-3, 3, 100) * mad)\n",
    ")\n",
    "# add k as a column\n",
    "mad_threshold_df[\"k\"] = k\n",
    "display(mad_threshold_df)\n",
    "plot_threshold_score(mad_threshold_df, col=\"k\")"
   ]
  },
  {
   "cell_type": "code",
   "execution_count": 20,
   "metadata": {},
   "outputs": [
    {
     "data": {
      "text/plain": [
       "{'best_k': np.float64(-0.5757575757575757),\n",
       " 'mad': np.float32(310.36237),\n",
       " 'threshold': np.float64(273.9378033262311),\n",
       " 'val_baks': np.float64(0.5702644233602071),\n",
       " 'val_baus': np.float64(0.9999999999999989),\n",
       " 'val_score': np.float64(0.49659189782686497)}"
      ]
     },
     "metadata": {},
     "output_type": "display_data"
    },
    {
     "data": {
      "text/plain": [
       "{'test_baks': np.float64(0.41987985721648696),\n",
       " 'test_baus': np.float64(0.5719811158758785),\n",
       " 'test_score': np.float64(0.4900646378433061)}"
      ]
     },
     "metadata": {},
     "output_type": "display_data"
    }
   ],
   "source": [
    "# at the highest score, get the value of k\n",
    "# this basically runs the test against our best validation hyperparameters\n",
    "best_k = mad_threshold_df[\"k\"][mad_threshold_df[\"score\"].idxmax()]\n",
    "threshold = initial_threshold + (mad * best_k)\n",
    "display(\n",
    "    {\n",
    "        \"best_k\": best_k,\n",
    "        \"mad\": mad,\n",
    "        \"threshold\": threshold,\n",
    "        \"val_baks\": mad_threshold_df[\"baks\"].max(),\n",
    "        \"val_baus\": mad_threshold_df[\"baus\"].max(),\n",
    "        \"val_score\": mad_threshold_df[\"score\"].max(),\n",
    "    }\n",
    ")\n",
    "identity_other_only = sorted(\n",
    "    set(test_df.identity.unique()) - set(train_df.identity.unique())\n",
    ")\n",
    "predictions = make_prediction(train_df, test_df, threshold)\n",
    "baks = BAKS(test_df[\"identity\"].values, predictions, identity_other_only)\n",
    "baus = BAUS(\n",
    "    test_df[\"identity\"].values, predictions, identity_other_only, \"new_individual\"\n",
    ")\n",
    "# geometric average\n",
    "score = np.sqrt(baks * baus)\n",
    "display(\n",
    "    {\n",
    "        \"test_baks\": baks,\n",
    "        \"test_baus\": baus,\n",
    "        \"test_score\": score,\n",
    "    }\n",
    ")"
   ]
  },
  {
   "cell_type": "code",
   "execution_count": 21,
   "metadata": {},
   "outputs": [
    {
     "name": "stderr",
     "output_type": "stream",
     "text": [
      "100%|██████████| 5918/5918 [00:40<00:00, 145.75it/s]\n",
      "100%|██████████| 100/100 [02:02<00:00,  1.22s/it]\n"
     ]
    }
   ],
   "source": [
    "# retune on the test set to get a new best threshold and see if\n",
    "# this improves the score\n",
    "new_train_df = pd.concat([train_df, val_df])\n",
    "distances = get_min_distance_to_neighbor(new_train_df)\n",
    "mad = np.median(np.abs(distances - np.median(distances)))\n",
    "initial_threshold = np.median(distances)\n",
    "new_threshold_df = search_threshold(\n",
    "    new_train_df, test_df, initial_threshold + (np.linspace(-3, 3, 100) * mad)\n",
    ")"
   ]
  },
  {
   "cell_type": "code",
   "execution_count": 22,
   "metadata": {},
   "outputs": [
    {
     "data": {
      "text/plain": [
       "{'initial_threshold': np.float32(459.12988),\n",
       " 'mad': np.float32(309.8407),\n",
       " 'best_k': np.float64(-0.5757575757575757),\n",
       " 'threshold': np.float64(280.7367535215436)}"
      ]
     },
     "metadata": {},
     "output_type": "display_data"
    },
    {
     "data": {
      "text/plain": [
       "{'test_baks': np.float64(0.4715383647532963),\n",
       " 'test_baus': np.float64(0.5609892150322161),\n",
       " 'test_score': np.float64(0.5143227946538307)}"
      ]
     },
     "metadata": {},
     "output_type": "display_data"
    }
   ],
   "source": [
    "best_k = mad_threshold_df[\"k\"][mad_threshold_df[\"score\"].idxmax()]\n",
    "threshold = initial_threshold + (mad * best_k)\n",
    "display(\n",
    "    {\n",
    "        \"initial_threshold\": initial_threshold,\n",
    "        \"mad\": mad,\n",
    "        \"best_k\": best_k,\n",
    "        \"threshold\": threshold,\n",
    "    }\n",
    ")\n",
    "identity_other_only = sorted(\n",
    "    set(test_df.identity.unique()) - set(new_train_df.identity.unique())\n",
    ")\n",
    "predictions = make_prediction(new_train_df, test_df, threshold)\n",
    "baks = BAKS(test_df[\"identity\"].values, predictions, identity_other_only)\n",
    "baus = BAUS(\n",
    "    test_df[\"identity\"].values, predictions, identity_other_only, \"new_individual\"\n",
    ")\n",
    "# geometric average\n",
    "score = np.sqrt(baks * baus)\n",
    "display(\n",
    "    {\n",
    "        \"test_baks\": baks,\n",
    "        \"test_baus\": baus,\n",
    "        \"test_score\": score,\n",
    "    }\n",
    ")\n",
    "# this is the best score we can get with this method"
   ]
  },
  {
   "cell_type": "markdown",
   "metadata": {},
   "source": [
    "Looks like the score increases if we include more items in the training dataset. This intuitively makes sense because we have more distances to look at."
   ]
  },
  {
   "cell_type": "markdown",
   "metadata": {},
   "source": [
    "# final prediction"
   ]
  },
  {
   "cell_type": "code",
   "execution_count": 23,
   "metadata": {},
   "outputs": [
    {
     "name": "stderr",
     "output_type": "stream",
     "text": [
      "100%|██████████| 13074/13074 [03:36<00:00, 60.27it/s] \n"
     ]
    },
    {
     "data": {
      "text/plain": [
       "{'initial_threshold': np.float32(372.645),\n",
       " 'mad': np.float32(261.46594),\n",
       " 'best_k': -0.9393939393939394,\n",
       " 'threshold': np.float32(127.02547)}"
      ]
     },
     "metadata": {},
     "output_type": "display_data"
    },
    {
     "data": {
      "text/plain": [
       "{'unknown': 957, 'known': 1178, 'total': 2135}"
      ]
     },
     "metadata": {},
     "output_type": "display_data"
    }
   ],
   "source": [
    "# now for the final prediction\n",
    "known_df = pdf[pdf.identity.notnull()]\n",
    "unknown_df = pdf[pdf.identity.isnull()]\n",
    "\n",
    "distances = get_min_distance_to_neighbor(known_df)\n",
    "mad = np.median(np.abs(distances - np.median(distances)))\n",
    "initial_threshold = np.median(distances)\n",
    "best_k = -0.9393939393939394\n",
    "display(\n",
    "    {\n",
    "        \"initial_threshold\": initial_threshold,\n",
    "        \"mad\": mad,\n",
    "        \"best_k\": best_k,\n",
    "        \"threshold\": initial_threshold + (mad * best_k),\n",
    "    }\n",
    ")\n",
    "# we already know from our validation set that we should use k=-1.182\n",
    "\n",
    "predictions = make_prediction(known_df, unknown_df, initial_threshold + (mad * best_k))\n",
    "# count how many are predicted as \"unknown\"\n",
    "display(\n",
    "    {\n",
    "        \"unknown\": len(predictions[predictions == \"new_individual\"]),\n",
    "        \"known\": len(predictions[predictions != \"new_individual\"]),\n",
    "        \"total\": len(predictions),\n",
    "    }\n",
    ")"
   ]
  },
  {
   "cell_type": "code",
   "execution_count": 24,
   "metadata": {},
   "outputs": [
    {
     "name": "stderr",
     "output_type": "stream",
     "text": [
      "/tmp/ipykernel_252432/3600044714.py:2: SettingWithCopyWarning: \n",
      "A value is trying to be set on a copy of a slice from a DataFrame.\n",
      "Try using .loc[row_indexer,col_indexer] = value instead\n",
      "\n",
      "See the caveats in the documentation: https://pandas.pydata.org/pandas-docs/stable/user_guide/indexing.html#returning-a-view-versus-a-copy\n",
      "  unknown_df[\"identity\"] = predictions\n"
     ]
    }
   ],
   "source": [
    "# save this result\n",
    "unknown_df[\"identity\"] = predictions\n",
    "output_path = (\n",
    "    Path.home() / \"shared/animalclef/data/predictions/20250425-megadescriptor-l-384.csv\"\n",
    ")\n",
    "output_path.parent.mkdir(parents=True, exist_ok=True)\n",
    "unknown_df[[\"image_id\", \"identity\"]].to_csv(output_path, index=False, header=True)"
   ]
  },
  {
   "cell_type": "markdown",
   "metadata": {},
   "source": [
    "## salamanders only"
   ]
  },
  {
   "cell_type": "code",
   "execution_count": 25,
   "metadata": {},
   "outputs": [
    {
     "data": {
      "text/html": [
       "<div>\n",
       "<style scoped>\n",
       "    .dataframe tbody tr th:only-of-type {\n",
       "        vertical-align: middle;\n",
       "    }\n",
       "\n",
       "    .dataframe tbody tr th {\n",
       "        vertical-align: top;\n",
       "    }\n",
       "\n",
       "    .dataframe thead th {\n",
       "        text-align: right;\n",
       "    }\n",
       "</style>\n",
       "<table border=\"1\" class=\"dataframe\">\n",
       "  <thead>\n",
       "    <tr style=\"text-align: right;\">\n",
       "      <th></th>\n",
       "      <th>Split</th>\n",
       "      <th>Num Individuals</th>\n",
       "      <th>Num Images</th>\n",
       "      <th>Train Image Overlap</th>\n",
       "      <th>Val Image Overlap</th>\n",
       "      <th>Test Image Overlap</th>\n",
       "      <th>Train Image %</th>\n",
       "      <th>Val Image %</th>\n",
       "      <th>Test Image %</th>\n",
       "      <th>Known Individuals</th>\n",
       "      <th>Unknown Individuals</th>\n",
       "    </tr>\n",
       "  </thead>\n",
       "  <tbody>\n",
       "    <tr>\n",
       "      <th>0</th>\n",
       "      <td>Train</td>\n",
       "      <td>107</td>\n",
       "      <td>226</td>\n",
       "      <td>226</td>\n",
       "      <td>0</td>\n",
       "      <td>0</td>\n",
       "      <td>100.0</td>\n",
       "      <td>0.0</td>\n",
       "      <td>0.0</td>\n",
       "      <td>107</td>\n",
       "      <td>0</td>\n",
       "    </tr>\n",
       "    <tr>\n",
       "      <th>1</th>\n",
       "      <td>Validation</td>\n",
       "      <td>121</td>\n",
       "      <td>197</td>\n",
       "      <td>0</td>\n",
       "      <td>197</td>\n",
       "      <td>0</td>\n",
       "      <td>0.0</td>\n",
       "      <td>100.0</td>\n",
       "      <td>0.0</td>\n",
       "      <td>107</td>\n",
       "      <td>14</td>\n",
       "    </tr>\n",
       "    <tr>\n",
       "      <th>2</th>\n",
       "      <td>Test</td>\n",
       "      <td>165</td>\n",
       "      <td>459</td>\n",
       "      <td>0</td>\n",
       "      <td>0</td>\n",
       "      <td>459</td>\n",
       "      <td>0.0</td>\n",
       "      <td>0.0</td>\n",
       "      <td>100.0</td>\n",
       "      <td>107</td>\n",
       "      <td>58</td>\n",
       "    </tr>\n",
       "  </tbody>\n",
       "</table>\n",
       "</div>"
      ],
      "text/plain": [
       "        Split  Num Individuals  Num Images  Train Image Overlap  \\\n",
       "0       Train              107         226                  226   \n",
       "1  Validation              121         197                    0   \n",
       "2        Test              165         459                    0   \n",
       "\n",
       "   Val Image Overlap  Test Image Overlap  Train Image %  Val Image %  \\\n",
       "0                  0                   0          100.0          0.0   \n",
       "1                197                   0            0.0        100.0   \n",
       "2                  0                 459            0.0          0.0   \n",
       "\n",
       "   Test Image %  Known Individuals  Unknown Individuals  \n",
       "0           0.0                107                    0  \n",
       "1           0.0                107                   14  \n",
       "2         100.0                107                   58  "
      ]
     },
     "metadata": {},
     "output_type": "display_data"
    },
    {
     "name": "stderr",
     "output_type": "stream",
     "text": [
      "100%|██████████| 226/226 [00:00<00:00, 1288.20it/s]\n",
      "100%|██████████| 100/100 [00:03<00:00, 25.48it/s]\n"
     ]
    },
    {
     "data": {
      "text/html": [
       "<div>\n",
       "<style scoped>\n",
       "    .dataframe tbody tr th:only-of-type {\n",
       "        vertical-align: middle;\n",
       "    }\n",
       "\n",
       "    .dataframe tbody tr th {\n",
       "        vertical-align: top;\n",
       "    }\n",
       "\n",
       "    .dataframe thead th {\n",
       "        text-align: right;\n",
       "    }\n",
       "</style>\n",
       "<table border=\"1\" class=\"dataframe\">\n",
       "  <thead>\n",
       "    <tr style=\"text-align: right;\">\n",
       "      <th></th>\n",
       "      <th>threshold</th>\n",
       "      <th>baks</th>\n",
       "      <th>baus</th>\n",
       "      <th>score</th>\n",
       "      <th>k</th>\n",
       "    </tr>\n",
       "  </thead>\n",
       "  <tbody>\n",
       "    <tr>\n",
       "      <th>0</th>\n",
       "      <td>75.501083</td>\n",
       "      <td>0.082555</td>\n",
       "      <td>1.000000</td>\n",
       "      <td>0.287323</td>\n",
       "      <td>-3.000000</td>\n",
       "    </tr>\n",
       "    <tr>\n",
       "      <th>1</th>\n",
       "      <td>77.368266</td>\n",
       "      <td>0.082555</td>\n",
       "      <td>1.000000</td>\n",
       "      <td>0.287323</td>\n",
       "      <td>-2.939394</td>\n",
       "    </tr>\n",
       "    <tr>\n",
       "      <th>2</th>\n",
       "      <td>79.235449</td>\n",
       "      <td>0.082555</td>\n",
       "      <td>1.000000</td>\n",
       "      <td>0.287323</td>\n",
       "      <td>-2.878788</td>\n",
       "    </tr>\n",
       "    <tr>\n",
       "      <th>3</th>\n",
       "      <td>81.102632</td>\n",
       "      <td>0.082555</td>\n",
       "      <td>1.000000</td>\n",
       "      <td>0.287323</td>\n",
       "      <td>-2.818182</td>\n",
       "    </tr>\n",
       "    <tr>\n",
       "      <th>4</th>\n",
       "      <td>82.969815</td>\n",
       "      <td>0.082555</td>\n",
       "      <td>1.000000</td>\n",
       "      <td>0.287323</td>\n",
       "      <td>-2.757576</td>\n",
       "    </tr>\n",
       "    <tr>\n",
       "      <th>...</th>\n",
       "      <td>...</td>\n",
       "      <td>...</td>\n",
       "      <td>...</td>\n",
       "      <td>...</td>\n",
       "      <td>...</td>\n",
       "    </tr>\n",
       "    <tr>\n",
       "      <th>95</th>\n",
       "      <td>252.883457</td>\n",
       "      <td>0.185358</td>\n",
       "      <td>0.107823</td>\n",
       "      <td>0.141372</td>\n",
       "      <td>2.757576</td>\n",
       "    </tr>\n",
       "    <tr>\n",
       "      <th>96</th>\n",
       "      <td>254.750639</td>\n",
       "      <td>0.185358</td>\n",
       "      <td>0.107823</td>\n",
       "      <td>0.141372</td>\n",
       "      <td>2.818182</td>\n",
       "    </tr>\n",
       "    <tr>\n",
       "      <th>97</th>\n",
       "      <td>256.617822</td>\n",
       "      <td>0.185358</td>\n",
       "      <td>0.095918</td>\n",
       "      <td>0.133339</td>\n",
       "      <td>2.878788</td>\n",
       "    </tr>\n",
       "    <tr>\n",
       "      <th>98</th>\n",
       "      <td>258.485005</td>\n",
       "      <td>0.185358</td>\n",
       "      <td>0.095918</td>\n",
       "      <td>0.133339</td>\n",
       "      <td>2.939394</td>\n",
       "    </tr>\n",
       "    <tr>\n",
       "      <th>99</th>\n",
       "      <td>260.352188</td>\n",
       "      <td>0.185358</td>\n",
       "      <td>0.095918</td>\n",
       "      <td>0.133339</td>\n",
       "      <td>3.000000</td>\n",
       "    </tr>\n",
       "  </tbody>\n",
       "</table>\n",
       "<p>100 rows × 5 columns</p>\n",
       "</div>"
      ],
      "text/plain": [
       "     threshold      baks      baus     score         k\n",
       "0    75.501083  0.082555  1.000000  0.287323 -3.000000\n",
       "1    77.368266  0.082555  1.000000  0.287323 -2.939394\n",
       "2    79.235449  0.082555  1.000000  0.287323 -2.878788\n",
       "3    81.102632  0.082555  1.000000  0.287323 -2.818182\n",
       "4    82.969815  0.082555  1.000000  0.287323 -2.757576\n",
       "..         ...       ...       ...       ...       ...\n",
       "95  252.883457  0.185358  0.107823  0.141372  2.757576\n",
       "96  254.750639  0.185358  0.107823  0.141372  2.818182\n",
       "97  256.617822  0.185358  0.095918  0.133339  2.878788\n",
       "98  258.485005  0.185358  0.095918  0.133339  2.939394\n",
       "99  260.352188  0.185358  0.095918  0.133339  3.000000\n",
       "\n",
       "[100 rows x 5 columns]"
      ]
     },
     "metadata": {},
     "output_type": "display_data"
    },
    {
     "data": {
      "text/plain": [
       "{'initial_threshold': np.float32(167.92664),\n",
       " 'mad': np.float32(30.808517),\n",
       " 'best_k': np.float64(-1.7272727272727273),\n",
       " 'threshold': np.float64(114.7119237726385)}"
      ]
     },
     "metadata": {},
     "output_type": "display_data"
    },
    {
     "data": {
      "image/png": "[encoded data removed]",
      "text/plain": [
       "<Figure size 640x480 with 1 Axes>"
      ]
     },
     "metadata": {},
     "output_type": "display_data"
    }
   ],
   "source": [
    "# what happens if we limit this just to salamanders?\n",
    "# we have to tune again\n",
    "\n",
    "cond = (\n",
    "    (~pdf.identity.isnull())\n",
    "    & (pdf.identity_count > 2)\n",
    "    & (pdf.dataset == \"SalamanderID2025\")\n",
    ")\n",
    "train_df, val_df, test_df = split_reid_data(pdf[cond])\n",
    "display(summarize_split(train_df, val_df, test_df))\n",
    "\n",
    "distances = get_min_distance_to_neighbor(train_df)\n",
    "mad = np.median(np.abs(distances - np.median(distances)))\n",
    "initial_threshold = np.median(distances)\n",
    "\n",
    "# now find the best threshold for k\n",
    "mad_threshold_df = search_threshold(\n",
    "    train_df, val_df, initial_threshold + (np.linspace(-3, 3, 100) * mad)\n",
    ")\n",
    "# add k as a column\n",
    "mad_threshold_df[\"k\"] = np.linspace(-3, 3, 100)\n",
    "display(mad_threshold_df)\n",
    "best_k = mad_threshold_df[\"k\"][mad_threshold_df[\"score\"].idxmax()]\n",
    "threshold = initial_threshold + (mad * best_k)\n",
    "display(\n",
    "    {\n",
    "        \"initial_threshold\": initial_threshold,\n",
    "        \"mad\": mad,\n",
    "        \"best_k\": best_k,\n",
    "        \"threshold\": threshold,\n",
    "    }\n",
    ")\n",
    "\n",
    "plot_threshold_score(mad_threshold_df, col=\"k\")"
   ]
  },
  {
   "cell_type": "code",
   "execution_count": 26,
   "metadata": {},
   "outputs": [
    {
     "name": "stderr",
     "output_type": "stream",
     "text": [
      "100%|██████████| 1388/1388 [00:06<00:00, 221.91it/s]\n"
     ]
    },
    {
     "data": {
      "text/plain": [
       "{'initial_threshold': np.float32(144.88077),\n",
       " 'mad': np.float32(29.508224),\n",
       " 'best_k': np.float64(-1.7272727272727273),\n",
       " 'threshold': np.float64(93.91201643510298)}"
      ]
     },
     "metadata": {},
     "output_type": "display_data"
    },
    {
     "data": {
      "text/plain": [
       "{'unknown': 1996, 'known': 139, 'total': 2135}"
      ]
     },
     "metadata": {},
     "output_type": "display_data"
    }
   ],
   "source": [
    "# now for the final prediction\n",
    "known_df = pdf[pdf.identity.notnull() & (pdf.dataset == \"SalamanderID2025\")]\n",
    "unknown_df = pdf[pdf.identity.isnull()]\n",
    "\n",
    "distances = get_min_distance_to_neighbor(known_df)\n",
    "mad = np.median(np.abs(distances - np.median(distances)))\n",
    "initial_threshold = np.median(distances)\n",
    "best_k = best_k\n",
    "display(\n",
    "    {\n",
    "        \"initial_threshold\": initial_threshold,\n",
    "        \"mad\": mad,\n",
    "        \"best_k\": best_k,\n",
    "        \"threshold\": initial_threshold + (mad * best_k),\n",
    "    }\n",
    ")\n",
    "# we already know from our validation set that we should use k=-1.182\n",
    "\n",
    "predictions = make_prediction(known_df, unknown_df, initial_threshold + (mad * best_k))\n",
    "# count how many are predicted as \"unknown\"\n",
    "display(\n",
    "    {\n",
    "        \"unknown\": len(predictions[predictions == \"new_individual\"]),\n",
    "        \"known\": len(predictions[predictions != \"new_individual\"]),\n",
    "        \"total\": len(predictions),\n",
    "    }\n",
    ")"
   ]
  },
  {
   "cell_type": "code",
   "execution_count": 27,
   "metadata": {},
   "outputs": [
    {
     "name": "stderr",
     "output_type": "stream",
     "text": [
      "/tmp/ipykernel_252432/1108673860.py:6: SettingWithCopyWarning: \n",
      "A value is trying to be set on a copy of a slice from a DataFrame.\n",
      "Try using .loc[row_indexer,col_indexer] = value instead\n",
      "\n",
      "See the caveats in the documentation: https://pandas.pydata.org/pandas-docs/stable/user_guide/indexing.html#returning-a-view-versus-a-copy\n",
      "  unknown_df[\"identity\"] = predictions\n"
     ]
    }
   ],
   "source": [
    "# write this result\n",
    "output_path = (\n",
    "    Path.home()\n",
    "    / \"shared/animalclef/data/predictions/20250425-megadescriptor-l-384-salamanders.csv\"\n",
    ")\n",
    "output_path.parent.mkdir(parents=True, exist_ok=True)\n",
    "unknown_df[\"identity\"] = predictions\n",
    "unknown_df[[\"image_id\", \"identity\"]].to_csv(output_path, index=False, header=True)"
   ]
  },
  {
   "cell_type": "code",
   "execution_count": 39,
   "metadata": {},
   "outputs": [
    {
     "name": "stdout",
     "output_type": "stream",
     "text": [
      "Warning: Your Kaggle API key is readable by other users on this system! To fix this, you can run 'chmod 600 /storage/home/hcoda1/8/amiyaguchi3/.config/kaggle/kaggle.json'\n",
      "Warning: Looks like you're using an outdated API Version, please consider updating (server 1.7.4 / client 1.6.17)\n",
      "100%|███████████████████████████████████████| 42.9k/42.9k [00:00<00:00, 144kB/s]\n",
      "Successfully submitted to AnimalCLEF25 @ CVPR-FGVC & LifeCLEF"
     ]
    }
   ],
   "source": [
    "! kaggle competitions submit -c animal-clef-2025 -f {output_path} -m \"baseline salamanders only\""
   ]
  }
 ],
 "metadata": {
  "kernelspec": {
   "display_name": ".venv",
   "language": "python",
   "name": "python3"
  },
  "language_info": {
   "codemirror_mode": {
    "name": "ipython",
    "version": 3
   },
   "file_extension": ".py",
   "mimetype": "text/x-python",
   "name": "python",
   "nbconvert_exporter": "python",
   "pygments_lexer": "ipython3",
   "version": "3.10.13"
  }
 },
 "nbformat": 4,
 "nbformat_minor": 2
}
