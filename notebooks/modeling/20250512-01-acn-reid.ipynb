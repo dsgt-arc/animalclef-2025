{
 "cells": [
  {
   "cell_type": "code",
   "execution_count": 2,
   "metadata": {},
   "outputs": [
    {
     "name": "stdout",
     "output_type": "stream",
     "text": [
      "The autoreload extension is already loaded. To reload it, use:\n",
      "  %reload_ext autoreload\n"
     ]
    }
   ],
   "source": [
    "%load_ext autoreload\n",
    "%autoreload 2"
   ]
  },
  {
   "cell_type": "code",
   "execution_count": 6,
   "metadata": {},
   "outputs": [
    {
     "name": "stderr",
     "output_type": "stream",
     "text": [
      "25/05/12 18:15:20 WARN SparkSession: Using an existing Spark session; only runtime SQL configurations will take effect.\n"
     ]
    },
    {
     "name": "stdout",
     "output_type": "stream",
     "text": [
      "root\n",
      " |-- image_id: integer (nullable = true)\n",
      " |-- identity: string (nullable = true)\n",
      " |-- dataset: string (nullable = true)\n",
      " |-- embeddings: array (nullable = true)\n",
      " |    |-- element: float (containsNull = true)\n",
      " |-- identity_count: long (nullable = false)\n",
      "\n"
     ]
    }
   ],
   "source": [
    "from animalclef.spark import get_spark\n",
    "from pyspark.sql import functions as F, Window\n",
    "from pathlib import Path\n",
    "from animalclef.dataset import split_reid_data, summarize_split\n",
    "\n",
    "\n",
    "spark = get_spark(cores=4, memory=\"2g\")\n",
    "\n",
    "root = Path.home() / \"scratch/animalclef\"\n",
    "metadata = spark.read.csv(f\"{root}/raw/metadata.csv\", header=True, inferSchema=True)\n",
    "embeddings = spark.read.parquet(f\"{root}/processed/embeddings.parquet\")\n",
    "embeddings = embeddings.select(\"image_id\", \"embeddings\")\n",
    "df = metadata.join(embeddings, on=\"image_id\", how=\"inner\").select(\n",
    "    \"image_id\",\n",
    "    \"identity\",\n",
    "    \"dataset\",\n",
    "    \"embeddings\",\n",
    "    F.count(\"image_id\").over(Window.partitionBy(\"identity\")).alias(\"identity_count\"),\n",
    ")\n",
    "df.printSchema()\n",
    "pdf = df.toPandas()"
   ]
  },
  {
   "cell_type": "code",
   "execution_count": 8,
   "metadata": {},
   "outputs": [
    {
     "data": {
      "text/html": [
       "<div>\n",
       "<style scoped>\n",
       "    .dataframe tbody tr th:only-of-type {\n",
       "        vertical-align: middle;\n",
       "    }\n",
       "\n",
       "    .dataframe tbody tr th {\n",
       "        vertical-align: top;\n",
       "    }\n",
       "\n",
       "    .dataframe thead th {\n",
       "        text-align: right;\n",
       "    }\n",
       "</style>\n",
       "<table border=\"1\" class=\"dataframe\">\n",
       "  <thead>\n",
       "    <tr style=\"text-align: right;\">\n",
       "      <th></th>\n",
       "      <th>Split</th>\n",
       "      <th>Num Individuals</th>\n",
       "      <th>Num Images</th>\n",
       "      <th>Train Image Overlap</th>\n",
       "      <th>Val Image Overlap</th>\n",
       "      <th>Test Image Overlap</th>\n",
       "      <th>Train Image %</th>\n",
       "      <th>Val Image %</th>\n",
       "      <th>Test Image %</th>\n",
       "      <th>Known Individuals</th>\n",
       "      <th>Unknown Individuals</th>\n",
       "    </tr>\n",
       "  </thead>\n",
       "  <tbody>\n",
       "    <tr>\n",
       "      <th>0</th>\n",
       "      <td>Train</td>\n",
       "      <td>404</td>\n",
       "      <td>5442</td>\n",
       "      <td>5442</td>\n",
       "      <td>0</td>\n",
       "      <td>0</td>\n",
       "      <td>100.0</td>\n",
       "      <td>0.0</td>\n",
       "      <td>0.0</td>\n",
       "      <td>404</td>\n",
       "      <td>0</td>\n",
       "    </tr>\n",
       "    <tr>\n",
       "      <th>1</th>\n",
       "      <td>Validation</td>\n",
       "      <td>539</td>\n",
       "      <td>3364</td>\n",
       "      <td>0</td>\n",
       "      <td>3364</td>\n",
       "      <td>0</td>\n",
       "      <td>0.0</td>\n",
       "      <td>100.0</td>\n",
       "      <td>0.0</td>\n",
       "      <td>404</td>\n",
       "      <td>135</td>\n",
       "    </tr>\n",
       "    <tr>\n",
       "      <th>2</th>\n",
       "      <td>Test</td>\n",
       "      <td>425</td>\n",
       "      <td>3729</td>\n",
       "      <td>0</td>\n",
       "      <td>0</td>\n",
       "      <td>3729</td>\n",
       "      <td>0.0</td>\n",
       "      <td>0.0</td>\n",
       "      <td>100.0</td>\n",
       "      <td>290</td>\n",
       "      <td>135</td>\n",
       "    </tr>\n",
       "  </tbody>\n",
       "</table>\n",
       "</div>"
      ],
      "text/plain": [
       "        Split  Num Individuals  Num Images  Train Image Overlap  \\\n",
       "0       Train              404        5442                 5442   \n",
       "1  Validation              539        3364                    0   \n",
       "2        Test              425        3729                    0   \n",
       "\n",
       "   Val Image Overlap  Test Image Overlap  Train Image %  Val Image %  \\\n",
       "0                  0                   0          100.0          0.0   \n",
       "1               3364                   0            0.0        100.0   \n",
       "2                  0                3729            0.0          0.0   \n",
       "\n",
       "   Test Image %  Known Individuals  Unknown Individuals  \n",
       "0           0.0                404                    0  \n",
       "1           0.0                404                  135  \n",
       "2         100.0                290                  135  "
      ]
     },
     "metadata": {},
     "output_type": "display_data"
    }
   ],
   "source": [
    "cond = (~pdf.identity.isnull()) & (pdf.identity_count > 2)\n",
    "train_df, val_df, test_df = split_reid_data(\n",
    "    pdf[cond], train_ratio=0.6, val_ratio=0.5, known_ratio=0.8\n",
    ")\n",
    "display(summarize_split(train_df, val_df, test_df))"
   ]
  },
  {
   "cell_type": "code",
   "execution_count": 9,
   "metadata": {},
   "outputs": [
    {
     "data": {
      "text/html": [
       "<div>\n",
       "<style scoped>\n",
       "    .dataframe tbody tr th:only-of-type {\n",
       "        vertical-align: middle;\n",
       "    }\n",
       "\n",
       "    .dataframe tbody tr th {\n",
       "        vertical-align: top;\n",
       "    }\n",
       "\n",
       "    .dataframe thead th {\n",
       "        text-align: right;\n",
       "    }\n",
       "</style>\n",
       "<table border=\"1\" class=\"dataframe\">\n",
       "  <thead>\n",
       "    <tr style=\"text-align: right;\">\n",
       "      <th></th>\n",
       "      <th>Split</th>\n",
       "      <th>Num Individuals</th>\n",
       "      <th>Num Images</th>\n",
       "      <th>Train Image Overlap</th>\n",
       "      <th>Val Image Overlap</th>\n",
       "      <th>Test Image Overlap</th>\n",
       "      <th>Train Image %</th>\n",
       "      <th>Val Image %</th>\n",
       "      <th>Test Image %</th>\n",
       "      <th>Known Individuals</th>\n",
       "      <th>Unknown Individuals</th>\n",
       "    </tr>\n",
       "  </thead>\n",
       "  <tbody>\n",
       "    <tr>\n",
       "      <th>0</th>\n",
       "      <td>Train</td>\n",
       "      <td>539</td>\n",
       "      <td>7671</td>\n",
       "      <td>7671</td>\n",
       "      <td>0</td>\n",
       "      <td>0</td>\n",
       "      <td>100.0</td>\n",
       "      <td>0.0</td>\n",
       "      <td>0.0</td>\n",
       "      <td>539</td>\n",
       "      <td>0</td>\n",
       "    </tr>\n",
       "    <tr>\n",
       "      <th>1</th>\n",
       "      <td>Validation</td>\n",
       "      <td>606</td>\n",
       "      <td>2231</td>\n",
       "      <td>0</td>\n",
       "      <td>2231</td>\n",
       "      <td>0</td>\n",
       "      <td>0.0</td>\n",
       "      <td>100.0</td>\n",
       "      <td>0.0</td>\n",
       "      <td>539</td>\n",
       "      <td>67</td>\n",
       "    </tr>\n",
       "    <tr>\n",
       "      <th>2</th>\n",
       "      <td>Test</td>\n",
       "      <td>447</td>\n",
       "      <td>2633</td>\n",
       "      <td>0</td>\n",
       "      <td>0</td>\n",
       "      <td>2633</td>\n",
       "      <td>0.0</td>\n",
       "      <td>0.0</td>\n",
       "      <td>100.0</td>\n",
       "      <td>379</td>\n",
       "      <td>68</td>\n",
       "    </tr>\n",
       "  </tbody>\n",
       "</table>\n",
       "</div>"
      ],
      "text/plain": [
       "        Split  Num Individuals  Num Images  Train Image Overlap  \\\n",
       "0       Train              539        7671                 7671   \n",
       "1  Validation              606        2231                    0   \n",
       "2        Test              447        2633                    0   \n",
       "\n",
       "   Val Image Overlap  Test Image Overlap  Train Image %  Val Image %  \\\n",
       "0                  0                   0          100.0          0.0   \n",
       "1               2231                   0            0.0        100.0   \n",
       "2                  0                2633            0.0          0.0   \n",
       "\n",
       "   Test Image %  Known Individuals  Unknown Individuals  \n",
       "0           0.0                539                    0  \n",
       "1           0.0                539                   67  \n",
       "2         100.0                379                   68  "
      ]
     },
     "metadata": {},
     "output_type": "display_data"
    }
   ],
   "source": [
    "cond = (~pdf.identity.isnull()) & (pdf.identity_count > 2)\n",
    "train_df, val_df, test_df = split_reid_data(\n",
    "    pdf[cond], train_ratio=0.8, val_ratio=0.5, known_ratio=0.8\n",
    ")\n",
    "display(summarize_split(train_df, val_df, test_df))"
   ]
  }
 ],
 "metadata": {
  "kernelspec": {
   "display_name": ".venv",
   "language": "python",
   "name": "python3"
  },
  "language_info": {
   "codemirror_mode": {
    "name": "ipython",
    "version": 3
   },
   "file_extension": ".py",
   "mimetype": "text/x-python",
   "name": "python",
   "nbconvert_exporter": "python",
   "pygments_lexer": "ipython3",
   "version": "3.12.9"
  }
 },
 "nbformat": 4,
 "nbformat_minor": 2
}
