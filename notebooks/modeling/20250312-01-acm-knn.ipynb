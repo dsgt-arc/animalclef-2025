{
 "cells": [
  {
   "cell_type": "code",
   "execution_count": 6,
   "metadata": {},
   "outputs": [
    {
     "name": "stdout",
     "output_type": "stream",
     "text": [
      "The autoreload extension is already loaded. To reload it, use:\n",
      "  %reload_ext autoreload\n"
     ]
    }
   ],
   "source": [
    "%load_ext autoreload\n",
    "%autoreload 2\n",
    "from animalclef.spark import get_spark\n",
    "from pyspark.sql import functions as F, Window\n",
    "from pathlib import Path\n",
    "import numpy as np\n",
    "from animalclef.dataset import split_reid_data, summarize_split"
   ]
  },
  {
   "cell_type": "code",
   "execution_count": 7,
   "metadata": {},
   "outputs": [
    {
     "name": "stderr",
     "output_type": "stream",
     "text": [
      "25/03/13 02:58:14 WARN SparkSession: Using an existing Spark session; only runtime SQL configurations will take effect.\n"
     ]
    },
    {
     "data": {
      "text/html": [
       "\n",
       "            <div>\n",
       "                <p><b>SparkSession - in-memory</b></p>\n",
       "                \n",
       "        <div>\n",
       "            <p><b>SparkContext</b></p>\n",
       "\n",
       "            <p><a href=\"http://atl1-1-02-003-16-2.pace.gatech.edu:4041\">Spark UI</a></p>\n",
       "\n",
       "            <dl>\n",
       "              <dt>Version</dt>\n",
       "                <dd><code>v3.5.5</code></dd>\n",
       "              <dt>Master</dt>\n",
       "                <dd><code>local[4]</code></dd>\n",
       "              <dt>AppName</dt>\n",
       "                <dd><code>clef</code></dd>\n",
       "            </dl>\n",
       "        </div>\n",
       "        \n",
       "            </div>\n",
       "        "
      ],
      "text/plain": [
       "<pyspark.sql.session.SparkSession at 0x7fff956c4ee0>"
      ]
     },
     "metadata": {},
     "output_type": "display_data"
    },
    {
     "name": "stdout",
     "output_type": "stream",
     "text": [
      "root\n",
      " |-- image_id: integer (nullable = true)\n",
      " |-- identity: string (nullable = true)\n",
      " |-- dataset: string (nullable = true)\n",
      " |-- cls: array (nullable = true)\n",
      " |    |-- element: float (containsNull = true)\n",
      " |-- avg_patch: array (nullable = true)\n",
      " |    |-- element: float (containsNull = true)\n",
      " |-- identity_count: long (nullable = false)\n",
      "\n"
     ]
    }
   ],
   "source": [
    "spark = get_spark(cores=4, memory=\"10g\")\n",
    "display(spark)\n",
    "\n",
    "metadata = spark.read.parquet(f\"{Path.home()}/shared/animalclef/data/parquet/metadata\")\n",
    "embeddings = spark.read.parquet(\n",
    "    f\"{Path.home()}/shared/animalclef/data/embeddings/dinov2\"\n",
    ")\n",
    "df = metadata.join(embeddings, on=\"image_id\").select(\n",
    "    \"image_id\",\n",
    "    \"identity\",\n",
    "    \"dataset\",\n",
    "    \"token.*\",\n",
    "    F.count(\"image_id\").over(Window.partitionBy(\"identity\")).alias(\"identity_count\"),\n",
    ")\n",
    "df.printSchema()\n",
    "pdf = df.toPandas()"
   ]
  },
  {
   "cell_type": "code",
   "execution_count": 8,
   "metadata": {},
   "outputs": [
    {
     "data": {
      "text/html": [
       "<div>\n",
       "<style scoped>\n",
       "    .dataframe tbody tr th:only-of-type {\n",
       "        vertical-align: middle;\n",
       "    }\n",
       "\n",
       "    .dataframe tbody tr th {\n",
       "        vertical-align: top;\n",
       "    }\n",
       "\n",
       "    .dataframe thead th {\n",
       "        text-align: right;\n",
       "    }\n",
       "</style>\n",
       "<table border=\"1\" class=\"dataframe\">\n",
       "  <thead>\n",
       "    <tr style=\"text-align: right;\">\n",
       "      <th></th>\n",
       "      <th>Split</th>\n",
       "      <th>Num Individuals</th>\n",
       "      <th>Num Images</th>\n",
       "      <th>Train Image Overlap</th>\n",
       "      <th>Val Image Overlap</th>\n",
       "      <th>Test Image Overlap</th>\n",
       "      <th>Train Image %</th>\n",
       "      <th>Val Image %</th>\n",
       "      <th>Test Image %</th>\n",
       "      <th>Known Individuals</th>\n",
       "      <th>Unknown Individuals</th>\n",
       "    </tr>\n",
       "  </thead>\n",
       "  <tbody>\n",
       "    <tr>\n",
       "      <th>0</th>\n",
       "      <td>Train</td>\n",
       "      <td>404</td>\n",
       "      <td>3392</td>\n",
       "      <td>3392</td>\n",
       "      <td>0</td>\n",
       "      <td>0</td>\n",
       "      <td>100.0</td>\n",
       "      <td>0.0</td>\n",
       "      <td>0.0</td>\n",
       "      <td>404</td>\n",
       "      <td>0</td>\n",
       "    </tr>\n",
       "    <tr>\n",
       "      <th>1</th>\n",
       "      <td>Validation</td>\n",
       "      <td>458</td>\n",
       "      <td>2575</td>\n",
       "      <td>0</td>\n",
       "      <td>2575</td>\n",
       "      <td>0</td>\n",
       "      <td>0.0</td>\n",
       "      <td>100.0</td>\n",
       "      <td>0.0</td>\n",
       "      <td>404</td>\n",
       "      <td>54</td>\n",
       "    </tr>\n",
       "    <tr>\n",
       "      <th>2</th>\n",
       "      <td>Test</td>\n",
       "      <td>620</td>\n",
       "      <td>6568</td>\n",
       "      <td>0</td>\n",
       "      <td>0</td>\n",
       "      <td>6568</td>\n",
       "      <td>0.0</td>\n",
       "      <td>0.0</td>\n",
       "      <td>100.0</td>\n",
       "      <td>404</td>\n",
       "      <td>216</td>\n",
       "    </tr>\n",
       "  </tbody>\n",
       "</table>\n",
       "</div>"
      ],
      "text/plain": [
       "        Split  Num Individuals  Num Images  Train Image Overlap  \\\n",
       "0       Train              404        3392                 3392   \n",
       "1  Validation              458        2575                    0   \n",
       "2        Test              620        6568                    0   \n",
       "\n",
       "   Val Image Overlap  Test Image Overlap  Train Image %  Val Image %  \\\n",
       "0                  0                   0          100.0          0.0   \n",
       "1               2575                   0            0.0        100.0   \n",
       "2                  0                6568            0.0          0.0   \n",
       "\n",
       "   Test Image %  Known Individuals  Unknown Individuals  \n",
       "0           0.0                404                    0  \n",
       "1           0.0                404                   54  \n",
       "2         100.0                404                  216  "
      ]
     },
     "execution_count": 8,
     "metadata": {},
     "output_type": "execute_result"
    }
   ],
   "source": [
    "cond = (~pdf.identity.isnull()) & (pdf.identity_count > 2)\n",
    "train_df, val_df, test_df = split_reid_data(pdf[cond])\n",
    "summarize_split(train_df, val_df, test_df)"
   ]
  },
  {
   "cell_type": "markdown",
   "metadata": {},
   "source": [
    "### k-nn model"
   ]
  },
  {
   "cell_type": "code",
   "execution_count": 9,
   "metadata": {},
   "outputs": [
    {
     "data": {
      "text/plain": [
       "array([[ 321.9624 ],\n",
       "       [ 952.66895],\n",
       "       [1168.0774 ],\n",
       "       ...,\n",
       "       [1026.0625 ],\n",
       "       [ 580.9336 ],\n",
       "       [ 623.37305]], dtype=float32)"
      ]
     },
     "metadata": {},
     "output_type": "display_data"
    },
    {
     "data": {
      "text/plain": [
       "np.float64(0.30533625990631974)"
      ]
     },
     "metadata": {},
     "output_type": "display_data"
    },
    {
     "data": {
      "text/plain": [
       "np.float64(0.0)"
      ]
     },
     "metadata": {},
     "output_type": "display_data"
    }
   ],
   "source": [
    "import faiss\n",
    "from animalclef.metrics import BAKS, BAUS\n",
    "\n",
    "X_train = np.stack(train_df.cls.values)\n",
    "X_val = np.stack(val_df.cls.values)\n",
    "X_test = np.stack(test_df.cls.values)\n",
    "\n",
    "# Create a FAISS index for efficient nearest neighbor search\n",
    "index = faiss.IndexFlatL2(X_train.shape[1])\n",
    "index.add(X_train)  # Add training embeddings to the index\n",
    "\n",
    "# Perform a search for the validation set\n",
    "# use the nearest neighbor for now for voting\n",
    "k = 1\n",
    "# Distances and indices for validation set\n",
    "dist_val, idx_val = index.search(X_val, k)\n",
    "display(dist_val)\n",
    "# Calculate the accuracy for validation and test sets\n",
    "# do the actual prediction\n",
    "\n",
    "# identities in val not in train\n",
    "predictions_val = train_df.iloc[idx_val.flatten()][\"identity\"].values\n",
    "identity_val_only = sorted(\n",
    "    set(val_df.identity.unique()) - set(train_df.identity.unique())\n",
    ")\n",
    "\n",
    "display(\n",
    "    BAKS(val_df[\"identity\"].values, predictions_val, identity_val_only),\n",
    "    BAUS(val_df[\"identity\"].values, predictions_val, identity_val_only, \"unknown\"),\n",
    ")"
   ]
  }
 ],
 "metadata": {
  "kernelspec": {
   "display_name": ".venv",
   "language": "python",
   "name": "python3"
  },
  "language_info": {
   "codemirror_mode": {
    "name": "ipython",
    "version": 3
   },
   "file_extension": ".py",
   "mimetype": "text/x-python",
   "name": "python",
   "nbconvert_exporter": "python",
   "pygments_lexer": "ipython3",
   "version": "3.10.10"
  }
 },
 "nbformat": 4,
 "nbformat_minor": 2
}
