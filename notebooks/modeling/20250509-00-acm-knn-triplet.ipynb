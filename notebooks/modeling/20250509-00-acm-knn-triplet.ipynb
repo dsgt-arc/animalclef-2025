{
 "cells": [
  {
   "cell_type": "code",
   "execution_count": 1,
   "metadata": {},
   "outputs": [],
   "source": [
    "%load_ext autoreload\n",
    "%autoreload 2\n",
    "from animalclef.spark import get_spark\n",
    "from pyspark.sql import functions as F, Window\n",
    "from pathlib import Path\n",
    "import numpy as np\n",
    "from animalclef.dataset import split_reid_data, summarize_split\n",
    "import pandas as pd\n",
    "import matplotlib.pyplot as plt"
   ]
  },
  {
   "cell_type": "code",
   "execution_count": null,
   "metadata": {},
   "outputs": [
    {
     "name": "stderr",
     "output_type": "stream",
     "text": [
      "25/05/09 05:24:38 WARN Utils: Your hostname, hawksbill-vm resolves to a loopback address: 127.0.1.1; using 192.168.10.12 instead (on interface ens18)\n",
      "25/05/09 05:24:38 WARN Utils: Set SPARK_LOCAL_IP if you need to bind to another address\n",
      "Setting default log level to \"WARN\".\n",
      "To adjust logging level use sc.setLogLevel(newLevel). For SparkR, use setLogLevel(newLevel).\n",
      "25/05/09 05:24:39 WARN NativeCodeLoader: Unable to load native-hadoop library for your platform... using builtin-java classes where applicable\n",
      "25/05/09 05:24:39 WARN SparkConf: Note that spark.local.dir will be overridden by the value set by the cluster manager (via SPARK_LOCAL_DIRS in mesos/standalone/kubernetes and LOCAL_DIRS in YARN).\n"
     ]
    },
    {
     "data": {
      "text/html": [
       "\n",
       "            <div>\n",
       "                <p><b>SparkSession - in-memory</b></p>\n",
       "                \n",
       "        <div>\n",
       "            <p><b>SparkContext</b></p>\n",
       "\n",
       "            <p><a href=\"http://Hawksbill-VM.lan:4040\">Spark UI</a></p>\n",
       "\n",
       "            <dl>\n",
       "              <dt>Version</dt>\n",
       "                <dd><code>v3.5.5</code></dd>\n",
       "              <dt>Master</dt>\n",
       "                <dd><code>local[4]</code></dd>\n",
       "              <dt>AppName</dt>\n",
       "                <dd><code>clef</code></dd>\n",
       "            </dl>\n",
       "        </div>\n",
       "        \n",
       "            </div>\n",
       "        "
      ],
      "text/plain": [
       "<pyspark.sql.session.SparkSession at 0x74fad5385820>"
      ]
     },
     "metadata": {},
     "output_type": "display_data"
    },
    {
     "name": "stdout",
     "output_type": "stream",
     "text": [
      "root\n",
      " |-- image_id: integer (nullable = true)\n",
      " |-- identity: string (nullable = true)\n",
      " |-- dataset: string (nullable = true)\n",
      " |-- embeddings: array (nullable = false)\n",
      " |    |-- element: float (containsNull = true)\n",
      " |-- identity_count: long (nullable = false)\n",
      "\n"
     ]
    },
    {
     "name": "stderr",
     "output_type": "stream",
     "text": [
      "25/05/09 05:24:42 WARN SparkStringUtils: Truncated the string representation of a plan since it was too large. This behavior can be adjusted by setting 'spark.sql.debug.maxToStringFields'.\n"
     ]
    },
    {
     "name": "stderr",
     "output_type": "stream",
     "text": [
      "25/05/09 05:24:50 WARN GarbageCollectionMetrics: To enable non-built-in garbage collector(s) List(G1 Concurrent GC), users should configure it(them) to spark.eventLog.gcMetrics.youngGenerationGarbageCollectors or spark.eventLog.gcMetrics.oldGenerationGarbageCollectors\n"
     ]
    }
   ],
   "source": [
    "spark = get_spark(cores=4, memory=\"2g\")\n",
    "display(spark)\n",
    "\n",
    "root = Path.home() / \"scratch/animalclef\"\n",
    "metadata = spark.read.csv(f\"{root}/raw/metadata.csv\", header=True, inferSchema=True)\n",
    "embeddings = spark.read.parquet(f\"{root}/processed/embeddings.parquet\")\n",
    "embeddings = embeddings.select(\n",
    "    \"image_id\",\n",
    "    F.array(\n",
    "        *[F.col(c).cast(\"float\") for c in embeddings.columns if c.startswith(\"embed_\")]\n",
    "    ).alias(\"embeddings\"),\n",
    ")\n",
    "df = metadata.join(embeddings, on=\"image_id\", how=\"inner\").select(\n",
    "    \"image_id\",\n",
    "    \"identity\",\n",
    "    \"dataset\",\n",
    "    \"embeddings\",\n",
    "    F.count(\"image_id\").over(Window.partitionBy(\"identity\")).alias(\"identity_count\"),\n",
    ")\n",
    "df.printSchema()\n",
    "pdf = df.toPandas()"
   ]
  },
  {
   "cell_type": "code",
   "execution_count": 3,
   "metadata": {},
   "outputs": [
    {
     "data": {
      "text/html": [
       "<div>\n",
       "<style scoped>\n",
       "    .dataframe tbody tr th:only-of-type {\n",
       "        vertical-align: middle;\n",
       "    }\n",
       "\n",
       "    .dataframe tbody tr th {\n",
       "        vertical-align: top;\n",
       "    }\n",
       "\n",
       "    .dataframe thead th {\n",
       "        text-align: right;\n",
       "    }\n",
       "</style>\n",
       "<table border=\"1\" class=\"dataframe\">\n",
       "  <thead>\n",
       "    <tr style=\"text-align: right;\">\n",
       "      <th></th>\n",
       "      <th>Split</th>\n",
       "      <th>Num Individuals</th>\n",
       "      <th>Num Images</th>\n",
       "      <th>Train Image Overlap</th>\n",
       "      <th>Val Image Overlap</th>\n",
       "      <th>Test Image Overlap</th>\n",
       "      <th>Train Image %</th>\n",
       "      <th>Val Image %</th>\n",
       "      <th>Test Image %</th>\n",
       "      <th>Known Individuals</th>\n",
       "      <th>Unknown Individuals</th>\n",
       "    </tr>\n",
       "  </thead>\n",
       "  <tbody>\n",
       "    <tr>\n",
       "      <th>0</th>\n",
       "      <td>Train</td>\n",
       "      <td>404</td>\n",
       "      <td>3686</td>\n",
       "      <td>3686</td>\n",
       "      <td>0</td>\n",
       "      <td>0</td>\n",
       "      <td>100.0</td>\n",
       "      <td>0.0</td>\n",
       "      <td>0.0</td>\n",
       "      <td>404</td>\n",
       "      <td>0</td>\n",
       "    </tr>\n",
       "    <tr>\n",
       "      <th>1</th>\n",
       "      <td>Validation</td>\n",
       "      <td>458</td>\n",
       "      <td>2857</td>\n",
       "      <td>0</td>\n",
       "      <td>2857</td>\n",
       "      <td>0</td>\n",
       "      <td>0.0</td>\n",
       "      <td>100.0</td>\n",
       "      <td>0.0</td>\n",
       "      <td>404</td>\n",
       "      <td>54</td>\n",
       "    </tr>\n",
       "    <tr>\n",
       "      <th>2</th>\n",
       "      <td>Test</td>\n",
       "      <td>620</td>\n",
       "      <td>5992</td>\n",
       "      <td>0</td>\n",
       "      <td>0</td>\n",
       "      <td>5992</td>\n",
       "      <td>0.0</td>\n",
       "      <td>0.0</td>\n",
       "      <td>100.0</td>\n",
       "      <td>404</td>\n",
       "      <td>216</td>\n",
       "    </tr>\n",
       "  </tbody>\n",
       "</table>\n",
       "</div>"
      ],
      "text/plain": [
       "        Split  Num Individuals  Num Images  Train Image Overlap  \\\n",
       "0       Train              404        3686                 3686   \n",
       "1  Validation              458        2857                    0   \n",
       "2        Test              620        5992                    0   \n",
       "\n",
       "   Val Image Overlap  Test Image Overlap  Train Image %  Val Image %  \\\n",
       "0                  0                   0          100.0          0.0   \n",
       "1               2857                   0            0.0        100.0   \n",
       "2                  0                5992            0.0          0.0   \n",
       "\n",
       "   Test Image %  Known Individuals  Unknown Individuals  \n",
       "0           0.0                404                    0  \n",
       "1           0.0                404                   54  \n",
       "2         100.0                404                  216  "
      ]
     },
     "execution_count": 3,
     "metadata": {},
     "output_type": "execute_result"
    }
   ],
   "source": [
    "cond = (~pdf.identity.isnull()) & (pdf.identity_count > 2)\n",
    "train_df, val_df, test_df = split_reid_data(pdf[cond])\n",
    "summarize_split(train_df, val_df, test_df)"
   ]
  },
  {
   "cell_type": "markdown",
   "metadata": {},
   "source": [
    "### k-nn model"
   ]
  },
  {
   "cell_type": "code",
   "execution_count": 4,
   "metadata": {},
   "outputs": [
    {
     "data": {
      "text/plain": [
       "array([[162.5907 ],\n",
       "       [338.1266 ],\n",
       "       [258.65796],\n",
       "       ...,\n",
       "       [281.3036 ],\n",
       "       [266.28088],\n",
       "       [260.57837]], shape=(2857, 1), dtype=float32)"
      ]
     },
     "metadata": {},
     "output_type": "display_data"
    },
    {
     "data": {
      "text/plain": [
       "np.float64(0.3059503773077349)"
      ]
     },
     "metadata": {},
     "output_type": "display_data"
    },
    {
     "data": {
      "text/plain": [
       "np.float64(0.0)"
      ]
     },
     "metadata": {},
     "output_type": "display_data"
    }
   ],
   "source": [
    "import faiss\n",
    "from animalclef.metrics import BAKS, BAUS\n",
    "\n",
    "X_train = np.stack(train_df.embeddings.values)\n",
    "X_val = np.stack(val_df.embeddings.values)\n",
    "X_test = np.stack(test_df.embeddings.values)\n",
    "\n",
    "# Create a FAISS index for efficient nearest neighbor search\n",
    "index = faiss.IndexFlatL2(X_train.shape[1])\n",
    "index.add(X_train)  # Add training embeddings to the index\n",
    "\n",
    "# Perform a search for the validation set\n",
    "# use the nearest neighbor for now for voting\n",
    "k = 1\n",
    "# Distances and indices for validation set\n",
    "dist_val, idx_val = index.search(X_val, k)\n",
    "display(dist_val)\n",
    "# Calculate the accuracy for validation and test sets\n",
    "# do the actual prediction\n",
    "\n",
    "# identities in val not in train\n",
    "predictions_val = train_df.iloc[idx_val.flatten()][\"identity\"].values\n",
    "identity_val_only = sorted(\n",
    "    set(val_df.identity.unique()) - set(train_df.identity.unique())\n",
    ")\n",
    "\n",
    "display(\n",
    "    BAKS(val_df[\"identity\"].values, predictions_val, identity_val_only),\n",
    "    BAUS(val_df[\"identity\"].values, predictions_val, identity_val_only, \"unknown\"),\n",
    ")"
   ]
  },
  {
   "cell_type": "code",
   "execution_count": 5,
   "metadata": {},
   "outputs": [
    {
     "name": "stderr",
     "output_type": "stream",
     "text": [
      "  0%|          | 0/3686 [00:00<?, ?it/s]"
     ]
    },
    {
     "name": "stderr",
     "output_type": "stream",
     "text": [
      "100%|██████████| 3686/3686 [00:06<00:00, 540.72it/s] "
     ]
    },
    {
     "name": "stdout",
     "output_type": "stream",
     "text": [
      "Min distance: 48.666786193847656\n",
      "Max distance: 713.1578369140625\n",
      "Mean distance: 262.1321105957031\n",
      "Std distance: 88.09282684326172\n",
      "IQR: 114.24188232421875\n",
      "Q1: 200.41943359375\n",
      "Q3: 314.66131591796875\n",
      "Median: 260.2188720703125\n",
      "MAD: 57.146087646484375\n"
     ]
    },
    {
     "name": "stderr",
     "output_type": "stream",
     "text": [
      "\n"
     ]
    }
   ],
   "source": [
    "# let's find the min/average distance to every other individual in test set.\n",
    "# let's create a function to cache the distances\n",
    "from functools import lru_cache\n",
    "from tqdm import tqdm\n",
    "\n",
    "\n",
    "def get_min_distance_to_neighbor(train_df):\n",
    "    @lru_cache(maxsize=16)\n",
    "    def get_index(individual):\n",
    "        \"\"\"get all embeddings that do not belong to an individual. This will form\n",
    "        the minimum intercluster distance.\"\"\"\n",
    "        sub = train_df[train_df.identity != individual]\n",
    "        # Use the dimension of the embedding vectors\n",
    "        embedding_dim = len(\n",
    "            sub.embeddings.iloc[0]\n",
    "        )  # Get dimension from first embedding\n",
    "        index = faiss.IndexFlatL2(embedding_dim)\n",
    "        index.add(np.stack(sub.embeddings.values))\n",
    "        return index\n",
    "\n",
    "    distances = []\n",
    "    # order the training set by identity so that our lru cache is more efficient\n",
    "    train_df = train_df.sort_values(by=\"identity\")\n",
    "    for row in tqdm(train_df.itertuples(), total=len(train_df)):\n",
    "        # get the index for the individual\n",
    "        index = get_index(row.identity)\n",
    "        # search for the nearest neighbor in the training set\n",
    "        dist, _ = index.search(np.array([row.embeddings]), 1)\n",
    "        # get the distance to the nearest neighbors\n",
    "        distances.append(dist[0][0])\n",
    "    return np.array(distances)\n",
    "\n",
    "\n",
    "# get stats on the distances\n",
    "distances = get_min_distance_to_neighbor(train_df)\n",
    "print(f\"Min distance: {distances.min()}\")\n",
    "print(f\"Max distance: {distances.max()}\")\n",
    "print(f\"Mean distance: {distances.mean()}\")\n",
    "print(f\"Std distance: {distances.std()}\")\n",
    "# IQR\n",
    "q1 = np.percentile(distances, 25)\n",
    "q2 = np.percentile(distances, 50)\n",
    "q3 = np.percentile(distances, 75)\n",
    "iqr = q3 - q1\n",
    "print(f\"IQR: {iqr}\")\n",
    "print(f\"Q1: {q1}\")\n",
    "print(f\"Q3: {q3}\")\n",
    "# MAD\n",
    "print(f\"Median: {q2}\")\n",
    "mad = np.median(np.abs(distances - np.median(distances)))\n",
    "print(f\"MAD: {mad}\")"
   ]
  },
  {
   "cell_type": "code",
   "execution_count": 6,
   "metadata": {},
   "outputs": [
    {
     "name": "stderr",
     "output_type": "stream",
     "text": [
      "  0%|          | 0/20 [00:00<?, ?it/s]"
     ]
    },
    {
     "name": "stderr",
     "output_type": "stream",
     "text": [
      "100%|██████████| 20/20 [00:04<00:00,  4.68it/s]\n"
     ]
    },
    {
     "data": {
      "text/html": [
       "<div>\n",
       "<style scoped>\n",
       "    .dataframe tbody tr th:only-of-type {\n",
       "        vertical-align: middle;\n",
       "    }\n",
       "\n",
       "    .dataframe tbody tr th {\n",
       "        vertical-align: top;\n",
       "    }\n",
       "\n",
       "    .dataframe thead th {\n",
       "        text-align: right;\n",
       "    }\n",
       "</style>\n",
       "<table border=\"1\" class=\"dataframe\">\n",
       "  <thead>\n",
       "    <tr style=\"text-align: right;\">\n",
       "      <th></th>\n",
       "      <th>threshold</th>\n",
       "      <th>baks</th>\n",
       "      <th>baus</th>\n",
       "      <th>score</th>\n",
       "    </tr>\n",
       "  </thead>\n",
       "  <tbody>\n",
       "    <tr>\n",
       "      <th>0</th>\n",
       "      <td>10.000000</td>\n",
       "      <td>0.000955</td>\n",
       "      <td>1.000000</td>\n",
       "      <td>0.030909</td>\n",
       "    </tr>\n",
       "    <tr>\n",
       "      <th>1</th>\n",
       "      <td>62.105263</td>\n",
       "      <td>0.037600</td>\n",
       "      <td>1.000000</td>\n",
       "      <td>0.193908</td>\n",
       "    </tr>\n",
       "    <tr>\n",
       "      <th>2</th>\n",
       "      <td>114.210526</td>\n",
       "      <td>0.075027</td>\n",
       "      <td>0.879490</td>\n",
       "      <td>0.256876</td>\n",
       "    </tr>\n",
       "    <tr>\n",
       "      <th>3</th>\n",
       "      <td>166.315789</td>\n",
       "      <td>0.134280</td>\n",
       "      <td>0.708275</td>\n",
       "      <td>0.308394</td>\n",
       "    </tr>\n",
       "    <tr>\n",
       "      <th>4</th>\n",
       "      <td>218.421053</td>\n",
       "      <td>0.190853</td>\n",
       "      <td>0.630024</td>\n",
       "      <td>0.346760</td>\n",
       "    </tr>\n",
       "    <tr>\n",
       "      <th>5</th>\n",
       "      <td>270.526316</td>\n",
       "      <td>0.248835</td>\n",
       "      <td>0.447165</td>\n",
       "      <td>0.333572</td>\n",
       "    </tr>\n",
       "    <tr>\n",
       "      <th>6</th>\n",
       "      <td>322.631579</td>\n",
       "      <td>0.277239</td>\n",
       "      <td>0.242024</td>\n",
       "      <td>0.259034</td>\n",
       "    </tr>\n",
       "    <tr>\n",
       "      <th>7</th>\n",
       "      <td>374.736842</td>\n",
       "      <td>0.294824</td>\n",
       "      <td>0.126842</td>\n",
       "      <td>0.193380</td>\n",
       "    </tr>\n",
       "    <tr>\n",
       "      <th>8</th>\n",
       "      <td>426.842105</td>\n",
       "      <td>0.296936</td>\n",
       "      <td>0.059246</td>\n",
       "      <td>0.132636</td>\n",
       "    </tr>\n",
       "    <tr>\n",
       "      <th>9</th>\n",
       "      <td>478.947368</td>\n",
       "      <td>0.301707</td>\n",
       "      <td>0.029243</td>\n",
       "      <td>0.093930</td>\n",
       "    </tr>\n",
       "    <tr>\n",
       "      <th>10</th>\n",
       "      <td>531.052632</td>\n",
       "      <td>0.305703</td>\n",
       "      <td>0.008327</td>\n",
       "      <td>0.050455</td>\n",
       "    </tr>\n",
       "    <tr>\n",
       "      <th>11</th>\n",
       "      <td>583.157895</td>\n",
       "      <td>0.305950</td>\n",
       "      <td>0.001323</td>\n",
       "      <td>0.020117</td>\n",
       "    </tr>\n",
       "    <tr>\n",
       "      <th>12</th>\n",
       "      <td>635.263158</td>\n",
       "      <td>0.305950</td>\n",
       "      <td>0.000000</td>\n",
       "      <td>0.000000</td>\n",
       "    </tr>\n",
       "    <tr>\n",
       "      <th>13</th>\n",
       "      <td>687.368421</td>\n",
       "      <td>0.305950</td>\n",
       "      <td>0.000000</td>\n",
       "      <td>0.000000</td>\n",
       "    </tr>\n",
       "    <tr>\n",
       "      <th>14</th>\n",
       "      <td>739.473684</td>\n",
       "      <td>0.305950</td>\n",
       "      <td>0.000000</td>\n",
       "      <td>0.000000</td>\n",
       "    </tr>\n",
       "    <tr>\n",
       "      <th>15</th>\n",
       "      <td>791.578947</td>\n",
       "      <td>0.305950</td>\n",
       "      <td>0.000000</td>\n",
       "      <td>0.000000</td>\n",
       "    </tr>\n",
       "    <tr>\n",
       "      <th>16</th>\n",
       "      <td>843.684211</td>\n",
       "      <td>0.305950</td>\n",
       "      <td>0.000000</td>\n",
       "      <td>0.000000</td>\n",
       "    </tr>\n",
       "    <tr>\n",
       "      <th>17</th>\n",
       "      <td>895.789474</td>\n",
       "      <td>0.305950</td>\n",
       "      <td>0.000000</td>\n",
       "      <td>0.000000</td>\n",
       "    </tr>\n",
       "    <tr>\n",
       "      <th>18</th>\n",
       "      <td>947.894737</td>\n",
       "      <td>0.305950</td>\n",
       "      <td>0.000000</td>\n",
       "      <td>0.000000</td>\n",
       "    </tr>\n",
       "    <tr>\n",
       "      <th>19</th>\n",
       "      <td>1000.000000</td>\n",
       "      <td>0.305950</td>\n",
       "      <td>0.000000</td>\n",
       "      <td>0.000000</td>\n",
       "    </tr>\n",
       "  </tbody>\n",
       "</table>\n",
       "</div>"
      ],
      "text/plain": [
       "      threshold      baks      baus     score\n",
       "0     10.000000  0.000955  1.000000  0.030909\n",
       "1     62.105263  0.037600  1.000000  0.193908\n",
       "2    114.210526  0.075027  0.879490  0.256876\n",
       "3    166.315789  0.134280  0.708275  0.308394\n",
       "4    218.421053  0.190853  0.630024  0.346760\n",
       "5    270.526316  0.248835  0.447165  0.333572\n",
       "6    322.631579  0.277239  0.242024  0.259034\n",
       "7    374.736842  0.294824  0.126842  0.193380\n",
       "8    426.842105  0.296936  0.059246  0.132636\n",
       "9    478.947368  0.301707  0.029243  0.093930\n",
       "10   531.052632  0.305703  0.008327  0.050455\n",
       "11   583.157895  0.305950  0.001323  0.020117\n",
       "12   635.263158  0.305950  0.000000  0.000000\n",
       "13   687.368421  0.305950  0.000000  0.000000\n",
       "14   739.473684  0.305950  0.000000  0.000000\n",
       "15   791.578947  0.305950  0.000000  0.000000\n",
       "16   843.684211  0.305950  0.000000  0.000000\n",
       "17   895.789474  0.305950  0.000000  0.000000\n",
       "18   947.894737  0.305950  0.000000  0.000000\n",
       "19  1000.000000  0.305950  0.000000  0.000000"
      ]
     },
     "metadata": {},
     "output_type": "display_data"
    }
   ],
   "source": [
    "# now let's figure out a good threshold on the validation set\n",
    "\n",
    "\n",
    "def make_prediction(train_df, other_df, threshold, new_label=\"new_individual\"):\n",
    "    # Create a FAISS index for efficient nearest neighbor search\n",
    "    X_train = np.stack(train_df.embeddings.values)\n",
    "    X_other = np.stack(other_df.embeddings.values)\n",
    "\n",
    "    index = faiss.IndexFlatL2(X_train.shape[1])\n",
    "    index.add(X_train)\n",
    "\n",
    "    dist, idx = index.search(X_other, 1)\n",
    "    predictions = train_df.iloc[idx.flatten()][\"identity\"].values\n",
    "    # if the distance is above a threshold, it's unknown\n",
    "    for i, v in enumerate(dist.flatten()):\n",
    "        if v > threshold:\n",
    "            predictions[i] = new_label\n",
    "    return predictions\n",
    "\n",
    "\n",
    "def search_threshold(train_df, other_df, thresholds):\n",
    "    identity_other_only = sorted(\n",
    "        set(other_df.identity.unique()) - set(train_df.identity.unique())\n",
    "    )\n",
    "\n",
    "    scores = []\n",
    "    for threshold in tqdm(thresholds):\n",
    "        predictions = make_prediction(train_df, other_df, threshold)\n",
    "        baks = BAKS(val_df[\"identity\"].values, predictions, identity_other_only)\n",
    "        baus = BAUS(\n",
    "            val_df[\"identity\"].values,\n",
    "            predictions,\n",
    "            identity_other_only,\n",
    "            \"new_individual\",\n",
    "        )\n",
    "        # geometric average\n",
    "        score = np.sqrt(baks * baus)\n",
    "        scores.append(\n",
    "            {\n",
    "                \"threshold\": threshold,\n",
    "                \"baks\": baks,\n",
    "                \"baus\": baus,\n",
    "                \"score\": score,\n",
    "            }\n",
    "        )\n",
    "    return pd.DataFrame(scores)\n",
    "\n",
    "\n",
    "base_threshold_df = search_threshold(train_df, val_df, np.linspace(10, 1000, 20))\n",
    "display(base_threshold_df)"
   ]
  },
  {
   "cell_type": "code",
   "execution_count": 7,
   "metadata": {},
   "outputs": [
    {
     "data": {
      "image/png": "[encoded data removed]",
      "text/plain": [
       "<Figure size 640x480 with 1 Axes>"
      ]
     },
     "metadata": {},
     "output_type": "display_data"
    }
   ],
   "source": [
    "def plot_threshold_score(df, col=\"threshold\"):\n",
    "    best_score = df[\"score\"].max()\n",
    "    best_threshold = df[col][df[\"score\"].idxmax()]\n",
    "\n",
    "    # plot baus and baks\n",
    "    plt.plot(\n",
    "        df[col],\n",
    "        df[\"baks\"],\n",
    "        label=f\"BAKS (best {df['baks'].max():.2f})\",\n",
    "    )\n",
    "    plt.plot(\n",
    "        df[col],\n",
    "        df[\"baus\"],\n",
    "        label=f\"BAUS (best {df['baus'].max():.2f})\",\n",
    "    )\n",
    "    plt.plot(\n",
    "        df[col],\n",
    "        df[\"score\"],\n",
    "        label=f\"score (best {best_score:.2f})\",\n",
    "    )\n",
    "    # line at the best threshold\n",
    "    plt.axvline(\n",
    "        best_threshold,\n",
    "        color=\"red\",\n",
    "        linestyle=\"--\",\n",
    "        label=f\"best threshold: {best_threshold:.2f}\",\n",
    "    )\n",
    "    plt.xlabel(\"Threshold\")\n",
    "    plt.ylabel(\"Geometric mean of BAKS and BAUS\")\n",
    "    plt.title(\"Threshold vs Geometric mean of BAKS and BAUS\")\n",
    "    plt.legend()\n",
    "    plt.show()\n",
    "\n",
    "\n",
    "plot_threshold_score(base_threshold_df)"
   ]
  },
  {
   "cell_type": "code",
   "execution_count": 8,
   "metadata": {},
   "outputs": [
    {
     "data": {
      "text/plain": [
       "{'initial_threshold': np.float32(260.21887), 'mad': np.float32(57.146088)}"
      ]
     },
     "metadata": {},
     "output_type": "display_data"
    },
    {
     "name": "stderr",
     "output_type": "stream",
     "text": [
      "  0%|          | 0/100 [00:00<?, ?it/s]"
     ]
    },
    {
     "name": "stderr",
     "output_type": "stream",
     "text": [
      "100%|██████████| 100/100 [00:21<00:00,  4.67it/s]\n"
     ]
    },
    {
     "data": {
      "text/html": [
       "<div>\n",
       "<style scoped>\n",
       "    .dataframe tbody tr th:only-of-type {\n",
       "        vertical-align: middle;\n",
       "    }\n",
       "\n",
       "    .dataframe tbody tr th {\n",
       "        vertical-align: top;\n",
       "    }\n",
       "\n",
       "    .dataframe thead th {\n",
       "        text-align: right;\n",
       "    }\n",
       "</style>\n",
       "<table border=\"1\" class=\"dataframe\">\n",
       "  <thead>\n",
       "    <tr style=\"text-align: right;\">\n",
       "      <th></th>\n",
       "      <th>threshold</th>\n",
       "      <th>baks</th>\n",
       "      <th>baus</th>\n",
       "      <th>score</th>\n",
       "      <th>k</th>\n",
       "    </tr>\n",
       "  </thead>\n",
       "  <tbody>\n",
       "    <tr>\n",
       "      <th>0</th>\n",
       "      <td>88.780609</td>\n",
       "      <td>0.056885</td>\n",
       "      <td>0.962145</td>\n",
       "      <td>0.233947</td>\n",
       "      <td>-3.000000</td>\n",
       "    </tr>\n",
       "    <tr>\n",
       "      <th>1</th>\n",
       "      <td>92.244008</td>\n",
       "      <td>0.059227</td>\n",
       "      <td>0.953298</td>\n",
       "      <td>0.237615</td>\n",
       "      <td>-2.939394</td>\n",
       "    </tr>\n",
       "    <tr>\n",
       "      <th>2</th>\n",
       "      <td>95.707408</td>\n",
       "      <td>0.059759</td>\n",
       "      <td>0.943007</td>\n",
       "      <td>0.237388</td>\n",
       "      <td>-2.878788</td>\n",
       "    </tr>\n",
       "    <tr>\n",
       "      <th>3</th>\n",
       "      <td>99.170807</td>\n",
       "      <td>0.064184</td>\n",
       "      <td>0.930309</td>\n",
       "      <td>0.244358</td>\n",
       "      <td>-2.818182</td>\n",
       "    </tr>\n",
       "    <tr>\n",
       "      <th>4</th>\n",
       "      <td>102.634206</td>\n",
       "      <td>0.067726</td>\n",
       "      <td>0.918740</td>\n",
       "      <td>0.249444</td>\n",
       "      <td>-2.757576</td>\n",
       "    </tr>\n",
       "    <tr>\n",
       "      <th>...</th>\n",
       "      <td>...</td>\n",
       "      <td>...</td>\n",
       "      <td>...</td>\n",
       "      <td>...</td>\n",
       "      <td>...</td>\n",
       "    </tr>\n",
       "    <tr>\n",
       "      <th>95</th>\n",
       "      <td>417.803538</td>\n",
       "      <td>0.296818</td>\n",
       "      <td>0.062531</td>\n",
       "      <td>0.136236</td>\n",
       "      <td>2.757576</td>\n",
       "    </tr>\n",
       "    <tr>\n",
       "      <th>96</th>\n",
       "      <td>421.266937</td>\n",
       "      <td>0.296818</td>\n",
       "      <td>0.060304</td>\n",
       "      <td>0.133788</td>\n",
       "      <td>2.818182</td>\n",
       "    </tr>\n",
       "    <tr>\n",
       "      <th>97</th>\n",
       "      <td>424.730337</td>\n",
       "      <td>0.296818</td>\n",
       "      <td>0.059246</td>\n",
       "      <td>0.132609</td>\n",
       "      <td>2.878788</td>\n",
       "    </tr>\n",
       "    <tr>\n",
       "      <th>98</th>\n",
       "      <td>428.193736</td>\n",
       "      <td>0.297126</td>\n",
       "      <td>0.059246</td>\n",
       "      <td>0.132678</td>\n",
       "      <td>2.939394</td>\n",
       "    </tr>\n",
       "    <tr>\n",
       "      <th>99</th>\n",
       "      <td>431.657135</td>\n",
       "      <td>0.298364</td>\n",
       "      <td>0.051826</td>\n",
       "      <td>0.124350</td>\n",
       "      <td>3.000000</td>\n",
       "    </tr>\n",
       "  </tbody>\n",
       "</table>\n",
       "<p>100 rows × 5 columns</p>\n",
       "</div>"
      ],
      "text/plain": [
       "     threshold      baks      baus     score         k\n",
       "0    88.780609  0.056885  0.962145  0.233947 -3.000000\n",
       "1    92.244008  0.059227  0.953298  0.237615 -2.939394\n",
       "2    95.707408  0.059759  0.943007  0.237388 -2.878788\n",
       "3    99.170807  0.064184  0.930309  0.244358 -2.818182\n",
       "4   102.634206  0.067726  0.918740  0.249444 -2.757576\n",
       "..         ...       ...       ...       ...       ...\n",
       "95  417.803538  0.296818  0.062531  0.136236  2.757576\n",
       "96  421.266937  0.296818  0.060304  0.133788  2.818182\n",
       "97  424.730337  0.296818  0.059246  0.132609  2.878788\n",
       "98  428.193736  0.297126  0.059246  0.132678  2.939394\n",
       "99  431.657135  0.298364  0.051826  0.124350  3.000000\n",
       "\n",
       "[100 rows x 5 columns]"
      ]
     },
     "metadata": {},
     "output_type": "display_data"
    },
    {
     "data": {
      "image/png": "[encoded data removed]",
      "text/plain": [
       "<Figure size 640x480 with 1 Axes>"
      ]
     },
     "metadata": {},
     "output_type": "display_data"
    }
   ],
   "source": [
    "initial_threshold = np.median(distances)\n",
    "mad = np.median(np.abs(distances - initial_threshold))\n",
    "display(\n",
    "    {\n",
    "        \"initial_threshold\": initial_threshold,\n",
    "        \"mad\": mad,\n",
    "    }\n",
    ")\n",
    "k = np.linspace(-3, 3, 100)\n",
    "mad_threshold_df = search_threshold(\n",
    "    train_df, val_df, initial_threshold + (np.linspace(-3, 3, 100) * mad)\n",
    ")\n",
    "# add k as a column\n",
    "mad_threshold_df[\"k\"] = k\n",
    "display(mad_threshold_df)\n",
    "plot_threshold_score(mad_threshold_df, col=\"k\")"
   ]
  },
  {
   "cell_type": "code",
   "execution_count": 9,
   "metadata": {},
   "outputs": [
    {
     "data": {
      "text/plain": [
       "{'best_k': np.float64(-0.33333333333333304),\n",
       " 'mad': np.float32(57.146088),\n",
       " 'threshold': np.float64(241.17017618815106),\n",
       " 'val_baks': np.float64(0.2983637447843002),\n",
       " 'val_baus': np.float64(0.9621452621452611),\n",
       " 'val_score': np.float64(0.35061186821092616)}"
      ]
     },
     "metadata": {},
     "output_type": "display_data"
    },
    {
     "data": {
      "text/plain": [
       "{'test_baks': np.float64(0.21656801290599506),\n",
       " 'test_baus': np.float64(0.5753651536076155),\n",
       " 'test_score': np.float64(0.3529953087679125)}"
      ]
     },
     "metadata": {},
     "output_type": "display_data"
    }
   ],
   "source": [
    "# at the highest score, get the value of k\n",
    "# this basically runs the test against our best validation hyperparameters\n",
    "best_k = mad_threshold_df[\"k\"][mad_threshold_df[\"score\"].idxmax()]\n",
    "threshold = initial_threshold + (mad * best_k)\n",
    "display(\n",
    "    {\n",
    "        \"best_k\": best_k,\n",
    "        \"mad\": mad,\n",
    "        \"threshold\": threshold,\n",
    "        \"val_baks\": mad_threshold_df[\"baks\"].max(),\n",
    "        \"val_baus\": mad_threshold_df[\"baus\"].max(),\n",
    "        \"val_score\": mad_threshold_df[\"score\"].max(),\n",
    "    }\n",
    ")\n",
    "identity_other_only = sorted(\n",
    "    set(test_df.identity.unique()) - set(train_df.identity.unique())\n",
    ")\n",
    "predictions = make_prediction(train_df, test_df, threshold)\n",
    "baks = BAKS(test_df[\"identity\"].values, predictions, identity_other_only)\n",
    "baus = BAUS(\n",
    "    test_df[\"identity\"].values, predictions, identity_other_only, \"new_individual\"\n",
    ")\n",
    "# geometric average\n",
    "score = np.sqrt(baks * baus)\n",
    "display(\n",
    "    {\n",
    "        \"test_baks\": baks,\n",
    "        \"test_baus\": baus,\n",
    "        \"test_score\": score,\n",
    "    }\n",
    ")"
   ]
  },
  {
   "cell_type": "code",
   "execution_count": 10,
   "metadata": {},
   "outputs": [
    {
     "name": "stderr",
     "output_type": "stream",
     "text": [
      "  0%|          | 0/6543 [00:00<?, ?it/s]"
     ]
    },
    {
     "name": "stderr",
     "output_type": "stream",
     "text": [
      "100%|██████████| 6543/6543 [00:13<00:00, 476.63it/s] \n",
      "100%|██████████| 100/100 [00:50<00:00,  1.97it/s]\n"
     ]
    }
   ],
   "source": [
    "# retune on the test set to get a new best threshold and see if\n",
    "# this improves the score\n",
    "new_train_df = pd.concat([train_df, val_df])\n",
    "distances = get_min_distance_to_neighbor(new_train_df)\n",
    "mad = np.median(np.abs(distances - np.median(distances)))\n",
    "initial_threshold = np.median(distances)\n",
    "new_threshold_df = search_threshold(\n",
    "    new_train_df, test_df, initial_threshold + (np.linspace(-3, 3, 100) * mad)\n",
    ")"
   ]
  },
  {
   "cell_type": "code",
   "execution_count": 12,
   "metadata": {},
   "outputs": [
    {
     "data": {
      "text/plain": [
       "{'initial_threshold': np.float32(245.99341),\n",
       " 'mad': np.float32(53.382065),\n",
       " 'best_k': np.float64(-0.33333333333333304),\n",
       " 'threshold': np.float64(228.1993865966797)}"
      ]
     },
     "metadata": {},
     "output_type": "display_data"
    },
    {
     "data": {
      "text/plain": [
       "{'test_baks': np.float64(0.25336139841740896),\n",
       " 'test_baus': np.float64(0.5720431097743044),\n",
       " 'test_score': np.float64(0.3807015133243643)}"
      ]
     },
     "metadata": {},
     "output_type": "display_data"
    }
   ],
   "source": [
    "best_k = mad_threshold_df[\"k\"][mad_threshold_df[\"score\"].idxmax()]\n",
    "threshold = initial_threshold + (mad * best_k)\n",
    "display(\n",
    "    {\n",
    "        \"initial_threshold\": initial_threshold,\n",
    "        \"mad\": mad,\n",
    "        \"best_k\": best_k,\n",
    "        \"threshold\": threshold,\n",
    "    }\n",
    ")\n",
    "identity_other_only = sorted(\n",
    "    set(test_df.identity.unique()) - set(new_train_df.identity.unique())\n",
    ")\n",
    "predictions = make_prediction(new_train_df, test_df, threshold)\n",
    "baks = BAKS(test_df[\"identity\"].values, predictions, identity_other_only)\n",
    "baus = BAUS(\n",
    "    test_df[\"identity\"].values, predictions, identity_other_only, \"new_individual\"\n",
    ")\n",
    "# geometric average\n",
    "score = np.sqrt(baks * baus)\n",
    "display(\n",
    "    {\n",
    "        \"test_baks\": baks,\n",
    "        \"test_baus\": baus,\n",
    "        \"test_score\": score,\n",
    "    }\n",
    ")\n",
    "# this is the best score we can get with this method"
   ]
  },
  {
   "cell_type": "markdown",
   "metadata": {},
   "source": [
    "Looks like the score increases if we include more items in the training dataset. This intuitively makes sense because we have more distances to look at."
   ]
  },
  {
   "cell_type": "markdown",
   "metadata": {},
   "source": [
    "# final prediction"
   ]
  },
  {
   "cell_type": "code",
   "execution_count": null,
   "metadata": {},
   "outputs": [
    {
     "name": "stderr",
     "output_type": "stream",
     "text": [
      "  0%|          | 7/13074 [00:00<03:46, 57.77it/s]"
     ]
    },
    {
     "name": "stderr",
     "output_type": "stream",
     "text": [
      "100%|██████████| 13074/13074 [01:05<00:00, 200.71it/s]\n"
     ]
    },
    {
     "data": {
      "text/plain": [
       "{'initial_threshold': np.float32(225.73389),\n",
       " 'mad': np.float32(54.902695),\n",
       " 'best_k': -0.33333333333333304,\n",
       " 'threshold': np.float32(207.43298)}"
      ]
     },
     "metadata": {},
     "output_type": "display_data"
    },
    {
     "data": {
      "text/plain": [
       "{'unknown': 712, 'known': 1423, 'total': 2135}"
      ]
     },
     "metadata": {},
     "output_type": "display_data"
    }
   ],
   "source": [
    "# now for the final prediction\n",
    "known_df = pdf[pdf.identity.notnull()]\n",
    "unknown_df = pdf[pdf.identity.isnull()]\n",
    "\n",
    "distances = get_min_distance_to_neighbor(known_df)\n",
    "mad = np.median(np.abs(distances - np.median(distances)))\n",
    "initial_threshold = np.median(distances)\n",
    "best_k = mad_threshold_df[\"k\"][mad_threshold_df[\"score\"].idxmax()]\n",
    "display(\n",
    "    {\n",
    "        \"initial_threshold\": initial_threshold,\n",
    "        \"mad\": mad,\n",
    "        \"best_k\": best_k,\n",
    "        \"threshold\": initial_threshold + (mad * best_k),\n",
    "    }\n",
    ")\n",
    "\n",
    "predictions = make_prediction(known_df, unknown_df, initial_threshold + (mad * best_k))\n",
    "# count how many are predicted as \"unknown\"\n",
    "display(\n",
    "    {\n",
    "        \"unknown\": len(predictions[predictions == \"new_individual\"]),\n",
    "        \"known\": len(predictions[predictions != \"new_individual\"]),\n",
    "        \"total\": len(predictions),\n",
    "    }\n",
    ")"
   ]
  },
  {
   "cell_type": "code",
   "execution_count": 14,
   "metadata": {},
   "outputs": [
    {
     "name": "stderr",
     "output_type": "stream",
     "text": [
      "/tmp/ipykernel_324821/1740131179.py:2: SettingWithCopyWarning: \n",
      "A value is trying to be set on a copy of a slice from a DataFrame.\n",
      "Try using .loc[row_indexer,col_indexer] = value instead\n",
      "\n",
      "See the caveats in the documentation: https://pandas.pydata.org/pandas-docs/stable/user_guide/indexing.html#returning-a-view-versus-a-copy\n",
      "  unknown_df[\"identity\"] = predictions\n"
     ]
    }
   ],
   "source": [
    "# save this result\n",
    "unknown_df[\"identity\"] = predictions\n",
    "output_path = Path.home() / \"shared/animalclef/data/predictions/20250509-triplet-v1.csv\"\n",
    "output_path.parent.mkdir(parents=True, exist_ok=True)\n",
    "unknown_df[[\"image_id\", \"identity\"]].to_csv(output_path, index=False, header=True)"
   ]
  },
  {
   "cell_type": "code",
   "execution_count": 15,
   "metadata": {},
   "outputs": [
    {
     "name": "stdout",
     "output_type": "stream",
     "text": [
      "100%|██████████████████████████████████████| 48.9k/48.9k [00:00<00:00, 78.5kB/s]\n",
      "Successfully submitted to AnimalCLEF25 @ CVPR-FGVC & LifeCLEF"
     ]
    }
   ],
   "source": [
    "! kaggle competitions submit -c animal-clef-2025 -f {output_path} -m \"triplet-v1\""
   ]
  }
 ],
 "metadata": {
  "kernelspec": {
   "display_name": ".venv",
   "language": "python",
   "name": "python3"
  },
  "language_info": {
   "codemirror_mode": {
    "name": "ipython",
    "version": 3
   },
   "file_extension": ".py",
   "mimetype": "text/x-python",
   "name": "python",
   "nbconvert_exporter": "python",
   "pygments_lexer": "ipython3",
   "version": "3.12.9"
  }
 },
 "nbformat": 4,
 "nbformat_minor": 2
}
