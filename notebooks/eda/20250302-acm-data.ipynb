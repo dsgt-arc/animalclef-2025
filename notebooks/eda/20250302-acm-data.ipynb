{
 "cells": [
  {
   "cell_type": "code",
   "execution_count": 2,
   "metadata": {},
   "outputs": [],
   "source": [
    "%load_ext autoreload\n",
    "%autoreload 2"
   ]
  },
  {
   "cell_type": "code",
   "execution_count": 3,
   "metadata": {},
   "outputs": [
    {
     "name": "stderr",
     "output_type": "stream",
     "text": [
      "Setting default log level to \"WARN\".\n",
      "To adjust logging level use sc.setLogLevel(newLevel). For SparkR, use setLogLevel(newLevel).\n",
      "25/03/02 04:14:38 WARN NativeCodeLoader: Unable to load native-hadoop library for your platform... using builtin-java classes where applicable\n",
      "25/03/02 04:14:38 WARN SparkConf: Note that spark.local.dir will be overridden by the value set by the cluster manager (via SPARK_LOCAL_DIRS in mesos/standalone/kubernetes and LOCAL_DIRS in YARN).\n",
      "25/03/02 04:14:38 WARN Utils: Service 'SparkUI' could not bind on port 4040. Attempting port 4041.\n"
     ]
    },
    {
     "data": {
      "text/html": [
       "\n",
       "            <div>\n",
       "                <p><b>SparkSession - in-memory</b></p>\n",
       "                \n",
       "        <div>\n",
       "            <p><b>SparkContext</b></p>\n",
       "\n",
       "            <p><a href=\"http://atl1-1-02-007-26-2.pace.gatech.edu:4041\">Spark UI</a></p>\n",
       "\n",
       "            <dl>\n",
       "              <dt>Version</dt>\n",
       "                <dd><code>v3.5.5</code></dd>\n",
       "              <dt>Master</dt>\n",
       "                <dd><code>local[4]</code></dd>\n",
       "              <dt>AppName</dt>\n",
       "                <dd><code>clef</code></dd>\n",
       "            </dl>\n",
       "        </div>\n",
       "        \n",
       "            </div>\n",
       "        "
      ],
      "text/plain": [
       "<pyspark.sql.session.SparkSession at 0x7fffb076e530>"
      ]
     },
     "metadata": {},
     "output_type": "display_data"
    }
   ],
   "source": [
    "from animalclef.spark import get_spark\n",
    "from pyspark.sql import functions as F\n",
    "\n",
    "spark = get_spark(cores=4, memory=\"10g\")\n",
    "display(spark)"
   ]
  },
  {
   "cell_type": "code",
   "execution_count": 4,
   "metadata": {},
   "outputs": [
    {
     "name": "stdout",
     "output_type": "stream",
     "text": [
      "animal-clef-2025.zip  images  metadata.csv  sample_submission.csv\n"
     ]
    }
   ],
   "source": [
    "! ls ~/scratch/animalclef"
   ]
  },
  {
   "cell_type": "code",
   "execution_count": 5,
   "metadata": {},
   "outputs": [
    {
     "name": "stdout",
     "output_type": "stream",
     "text": [
      "root\n",
      " |-- image_id: string (nullable = true)\n",
      " |-- identity: string (nullable = true)\n",
      " |-- path: string (nullable = true)\n",
      " |-- date: string (nullable = true)\n",
      " |-- orientation: string (nullable = true)\n",
      " |-- species: string (nullable = true)\n",
      " |-- split: string (nullable = true)\n",
      " |-- dataset: string (nullable = true)\n",
      "\n",
      "+--------+------------------+--------------------+----+-----------+-------+--------+----------+\n",
      "|image_id|          identity|                path|date|orientation|species|   split|   dataset|\n",
      "+--------+------------------+--------------------+----+-----------+-------+--------+----------+\n",
      "|       0|LynxID2025_lynx_37|images/LynxID2025...|NULL|      right|   lynx|database|LynxID2025|\n",
      "|       1|LynxID2025_lynx_37|images/LynxID2025...|NULL|       left|   lynx|database|LynxID2025|\n",
      "|       2|LynxID2025_lynx_49|images/LynxID2025...|NULL|       left|   lynx|database|LynxID2025|\n",
      "|       3|              NULL|images/LynxID2025...|NULL|       back|   lynx|   query|LynxID2025|\n",
      "|       4|LynxID2025_lynx_13|images/LynxID2025...|NULL|      right|   lynx|database|LynxID2025|\n",
      "|       5|              NULL|images/LynxID2025...|NULL|       left|   lynx|   query|LynxID2025|\n",
      "|       6|LynxID2025_lynx_07|images/LynxID2025...|NULL|       left|   lynx|database|LynxID2025|\n",
      "|       7|LynxID2025_lynx_95|images/LynxID2025...|NULL|       left|   lynx|database|LynxID2025|\n",
      "|       8|LynxID2025_lynx_49|images/LynxID2025...|NULL|      front|   lynx|database|LynxID2025|\n",
      "|       9|LynxID2025_lynx_32|images/LynxID2025...|NULL|      right|   lynx|database|LynxID2025|\n",
      "|      10|LynxID2025_lynx_60|images/LynxID2025...|NULL|      right|   lynx|database|LynxID2025|\n",
      "|      11|LynxID2025_lynx_24|images/LynxID2025...|NULL|      front|   lynx|database|LynxID2025|\n",
      "|      12|              NULL|images/LynxID2025...|NULL|       left|   lynx|   query|LynxID2025|\n",
      "|      13|              NULL|images/LynxID2025...|NULL|      right|   lynx|   query|LynxID2025|\n",
      "|      14|LynxID2025_lynx_43|images/LynxID2025...|NULL|       left|   lynx|database|LynxID2025|\n",
      "|      15|LynxID2025_lynx_54|images/LynxID2025...|NULL|      right|   lynx|database|LynxID2025|\n",
      "|      16|LynxID2025_lynx_05|images/LynxID2025...|NULL|    unknown|   lynx|database|LynxID2025|\n",
      "|      17|LynxID2025_lynx_16|images/LynxID2025...|NULL|       left|   lynx|database|LynxID2025|\n",
      "|      18|              NULL|images/LynxID2025...|NULL|      right|   lynx|   query|LynxID2025|\n",
      "|      19|              NULL|images/LynxID2025...|NULL|      right|   lynx|   query|LynxID2025|\n",
      "+--------+------------------+--------------------+----+-----------+-------+--------+----------+\n",
      "only showing top 20 rows\n",
      "\n"
     ]
    }
   ],
   "source": [
    "from pathlib import Path\n",
    "\n",
    "root = Path(\"~/scratch/animalclef\").expanduser()\n",
    "metadata = spark.read.csv(f\"{root}/metadata.csv\", header=True)\n",
    "metadata.printSchema()\n",
    "metadata.show()"
   ]
  },
  {
   "cell_type": "code",
   "execution_count": 6,
   "metadata": {},
   "outputs": [
    {
     "name": "stdout",
     "output_type": "stream",
     "text": [
      "+--------+------------------+-----------------------------------------------------------------------------------------------+----+-----------+-------+--------+----------+\n",
      "|image_id|identity          |path                                                                                           |date|orientation|species|split   |dataset   |\n",
      "+--------+------------------+-----------------------------------------------------------------------------------------------+----+-----------+-------+--------+----------+\n",
      "|0       |LynxID2025_lynx_37|images/LynxID2025/database/000f9ee1aad063a4485379ec06741251344f57ba0e8e6546dfc4c3b83f28c0db.jpg|NULL|right      |lynx   |database|LynxID2025|\n",
      "|1       |LynxID2025_lynx_37|images/LynxID2025/database/0020edb6689e9f78462394d5a6447112e66ac603f30abaacbd0e9787361acc10.jpg|NULL|left       |lynx   |database|LynxID2025|\n",
      "|2       |LynxID2025_lynx_49|images/LynxID2025/database/003152e4145b5b6940091d5c1290d023ed3ad81400482b97bd2ea4ba35dbbd6b.jpg|NULL|left       |lynx   |database|LynxID2025|\n",
      "|3       |NULL              |images/LynxID2025/query/003b89301c7b9f6d18f722082617f65f6d5986c9032b660cc02a0735d5bdd0f7.jpg   |NULL|back       |lynx   |query   |LynxID2025|\n",
      "|4       |LynxID2025_lynx_13|images/LynxID2025/database/003c3f82011e9c3f849f945a9396b7bb2d3201ef994ce18b2994e44813f6f589.jpg|NULL|right      |lynx   |database|LynxID2025|\n",
      "+--------+------------------+-----------------------------------------------------------------------------------------------+----+-----------+-------+--------+----------+\n",
      "only showing top 5 rows\n",
      "\n"
     ]
    }
   ],
   "source": [
    "metadata.show(5, truncate=False)"
   ]
  },
  {
   "cell_type": "code",
   "execution_count": 7,
   "metadata": {},
   "outputs": [
    {
     "name": "stderr",
     "output_type": "stream",
     "text": [
      "[Stage 3:>                                                          (0 + 1) / 1]\r"
     ]
    },
    {
     "name": "stdout",
     "output_type": "stream",
     "text": [
      "+---------+-----+\n",
      "|ext(path)|count|\n",
      "+---------+-----+\n",
      "|.jpg     |7271 |\n",
      "|.jpeg    |1489 |\n",
      "|.JPG     |6449 |\n",
      "+---------+-----+\n",
      "\n"
     ]
    },
    {
     "name": "stderr",
     "output_type": "stream",
     "text": [
      "                                                                                \r"
     ]
    }
   ],
   "source": [
    "@F.udf(\"string\")\n",
    "def ext(path):\n",
    "    return Path(path).suffix\n",
    "\n",
    "\n",
    "metadata.groupBy(ext(\"path\")).count().show(5, truncate=False)"
   ]
  },
  {
   "cell_type": "code",
   "execution_count": 8,
   "metadata": {},
   "outputs": [
    {
     "name": "stderr",
     "output_type": "stream",
     "text": [
      "                                                                                \r"
     ]
    },
    {
     "name": "stdout",
     "output_type": "stream",
     "text": [
      "root\n",
      " |-- path: string (nullable = true)\n",
      " |-- modificationTime: timestamp (nullable = true)\n",
      " |-- length: long (nullable = true)\n",
      " |-- content: binary (nullable = true)\n",
      "\n"
     ]
    },
    {
     "name": "stderr",
     "output_type": "stream",
     "text": [
      "                                                                                \r"
     ]
    },
    {
     "data": {
      "text/plain": [
       "15209"
      ]
     },
     "execution_count": 8,
     "metadata": {},
     "output_type": "execute_result"
    }
   ],
   "source": [
    "# images\n",
    "\n",
    "images = (\n",
    "    spark.read.format(\"binaryFile\")\n",
    "    # image/{dataset}/{split}/{image}\n",
    "    .option(\"pathGlobFilter\", \"*\")\n",
    "    .option(\"recursiveFileLookup\", True)\n",
    "    .load(f\"{root}/images\")\n",
    ")\n",
    "images.printSchema()\n",
    "images.count()"
   ]
  },
  {
   "cell_type": "code",
   "execution_count": null,
   "metadata": {},
   "outputs": [
    {
     "name": "stdout",
     "output_type": "stream",
     "text": [
      "+-----------------------------------------------------------------------------------------------+\n",
      "|relative_path(path)                                                                            |\n",
      "+-----------------------------------------------------------------------------------------------+\n",
      "|images/LynxID2025/database/8742db46ed00642317b899925e22d161e233f353aa87cb8ea30eaa9c3e618c90.jpg|\n",
      "|images/LynxID2025/database/ade229875db3fcfbae1731aa3fd7bed8a669c02cb6e021915bc36880f7a7c47d.jpg|\n",
      "|images/LynxID2025/database/bb432782a3ee2738b3681d066f459b95287f2f89a0128682f2b57dad5045cc06.jpg|\n",
      "|images/LynxID2025/database/72c098e07acc5a3705a914b1ed36366e47e22b24262c7e3fe3041d8125951135.jpg|\n",
      "|images/LynxID2025/database/6835b17a615deb93f61b072bdf98c7e8a714e52c60758d467e4bbc28699fc232.jpg|\n",
      "+-----------------------------------------------------------------------------------------------+\n",
      "only showing top 5 rows\n",
      "\n"
     ]
    }
   ],
   "source": [
    "@F.udf(\"string\")\n",
    "def relative_path(path, root=root):\n",
    "    return Path(path.split(\"file:\")[1]).relative_to(Path(root).absolute()).as_posix()\n",
    "\n",
    "\n",
    "images.drop(\"content\").select(relative_path(\"path\")).show(5, truncate=False)"
   ]
  }
 ],
 "metadata": {
  "kernelspec": {
   "display_name": ".venv",
   "language": "python",
   "name": "python3"
  },
  "language_info": {
   "codemirror_mode": {
    "name": "ipython",
    "version": 3
   },
   "file_extension": ".py",
   "mimetype": "text/x-python",
   "name": "python",
   "nbconvert_exporter": "python",
   "pygments_lexer": "ipython3",
   "version": "3.10.10"
  }
 },
 "nbformat": 4,
 "nbformat_minor": 2
}
